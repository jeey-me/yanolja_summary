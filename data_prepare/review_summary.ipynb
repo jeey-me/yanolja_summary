{
 "cells": [
  {
   "cell_type": "markdown",
   "id": "2c13c042",
   "metadata": {},
   "source": [
    "# GPT를 활용해 리뷰요약 best prompt 작성\n",
    "- 우리 서비스에서 사용할 GPT모델 : gpt3.5-turbo"
   ]
  },
  {
   "cell_type": "markdown",
   "id": "07e20e38",
   "metadata": {},
   "source": []
  },
  {
   "cell_type": "code",
   "execution_count": 10,
   "id": "a91814db",
   "metadata": {},
   "outputs": [
    {
     "name": "stdout",
     "output_type": "stream",
     "text": [
      "API Key loaded: sk-proj-vm...\n",
      "Hello! How can I assist you today?\n"
     ]
    }
   ],
   "source": [
    "import os\n",
    "from openai import OpenAI\n",
    "from dotenv import load_dotenv\n",
    "\n",
    "# 절대경로나 정확한 상대경로 지정\n",
    "load_dotenv('C:/Users/Admin/kpmg_future_lab/LLM_ex/yanolja_summary/.env', override=True)\n",
    "\n",
    "# 환경 변수에서 API 키 가져오기\n",
    "OPENAI_API_KEY = os.environ.get(\"OPENAI_API_KEY\")\n",
    "print(f\"API Key loaded: {OPENAI_API_KEY[:10]}...\")  # 앞 10글자만 출력 (확인용)\n",
    "\n",
    "# OpenAI 클라이언트 생성\n",
    "client = OpenAI(api_key=OPENAI_API_KEY)\n",
    "\n",
    "# Chat API 호출\n",
    "response = client.chat.completions.create(\n",
    "    model='gpt-3.5-turbo-0125',\n",
    "    messages=[{'role': 'user', 'content': 'hi'}],\n",
    "    temperature=0.0\n",
    ")\n",
    "\n",
    "# 응답 출력\n",
    "print(response.choices[0].message.content)\n"
   ]
  },
  {
   "cell_type": "code",
   "execution_count": null,
   "id": "737ed3fc",
   "metadata": {},
   "outputs": [],
   "source": []
  }
 ],
 "metadata": {
  "kernelspec": {
   "display_name": "llm_env",
   "language": "python",
   "name": "python3"
  },
  "language_info": {
   "codemirror_mode": {
    "name": "ipython",
    "version": 3
   },
   "file_extension": ".py",
   "mimetype": "text/x-python",
   "name": "python",
   "nbconvert_exporter": "python",
   "pygments_lexer": "ipython3",
   "version": "3.12.9"
  }
 },
 "nbformat": 4,
 "nbformat_minor": 5
}
