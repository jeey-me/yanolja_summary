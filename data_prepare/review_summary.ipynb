{
 "cells": [
  {
   "cell_type": "markdown",
   "id": "2c13c042",
   "metadata": {},
   "source": [
    "# GPT를 활용해 리뷰요약 best prompt 작성\n",
    "- 우리 서비스에서 사용할 GPT모델 : gpt3.5-turbo"
   ]
  },
  {
   "cell_type": "markdown",
   "id": "07e20e38",
   "metadata": {},
   "source": []
  },
  {
   "cell_type": "code",
   "execution_count": 10,
   "id": "a91814db",
   "metadata": {},
   "outputs": [
    {
     "name": "stdout",
     "output_type": "stream",
     "text": [
      "API Key loaded: sk-proj-vm...\n",
      "Hello! How can I assist you today?\n"
     ]
    }
   ],
   "source": [
    "import os\n",
    "from openai import OpenAI\n",
    "from dotenv import load_dotenv\n",
    "\n",
    "# 절대경로나 정확한 상대경로 지정\n",
    "load_dotenv('C:/Users/Admin/kpmg_future_lab/LLM_ex/yanolja_summary/.env', override=True)\n",
    "\n",
    "# 환경 변수에서 API 키 가져오기\n",
    "OPENAI_API_KEY = os.environ.get(\"OPENAI_API_KEY\")\n",
    "print(f\"API Key loaded: {OPENAI_API_KEY[:10]}...\")  # 앞 10글자만 출력 (확인용)\n",
    "\n",
    "# OpenAI 클라이언트 생성\n",
    "client = OpenAI(api_key=OPENAI_API_KEY)\n",
    "\n",
    "# Chat API 호출\n",
    "response = client.chat.completions.create(\n",
    "    model='gpt-3.5-turbo-0125',\n",
    "    messages=[{'role': 'user', 'content': 'hi'}],\n",
    "    temperature=0.0\n",
    ")\n",
    "\n",
    "# 응답 출력\n",
    "print(response.choices[0].message.content)\n"
   ]
  },
  {
   "cell_type": "markdown",
   "id": "737ed3fc",
   "metadata": {},
   "source": [
    "# 데이터 전처리 \n",
    "- 리뷰 데이터 파일 로딩 \n",
    "- 리뷰 요약 기준 (평점 1-5)\n",
    "    - good : 평점 5\n",
    "    - bad : 평점 4이하 \n",
    "- 각 리뷰마다 스페셜 토큰 \n",
    "    - '[REVIEW_START]' + r['review'] + '[REVIEW_END]'\n"
   ]
  },
  {
   "cell_type": "markdown",
   "id": "fc3e429f",
   "metadata": {},
   "source": [
    "## 데이터 전처리 함수 작성 "
   ]
  },
  {
   "cell_type": "code",
   "execution_count": 14,
   "id": "723f2498",
   "metadata": {},
   "outputs": [
    {
     "data": {
      "text/plain": [
       "[{'review': '강릉 여행길에  들럿는데  아주 예약을 잘했어요\\n호텔이  주인의 품격이 느껴지더군요  \\n조용하고 좋습니다',\n",
       "  'stars': 5,\n",
       "  'date': '2025.02.03'},\n",
       " {'review': '로비도 고급지고 객실도 깔끔하니 너무나 만족스런1박 했습니다.\\n침구가 너무 좋아서 잘 잘수있었어요.\\n다음에 여행가면 여기에 다시 묵을겁니다',\n",
       "  'stars': 5,\n",
       "  'date': '2024.12.23'},\n",
       " {'review': '친절한 안내와 정리정돈도 잘 되어 있어 편안하게 잘수있었어요',\n",
       "  'stars': 5,\n",
       "  'date': '2024.12.09'}]"
      ]
     },
     "execution_count": 14,
     "metadata": {},
     "output_type": "execute_result"
    }
   ],
   "source": [
    "import json\n",
    "\n",
    "with open('./res/3.kyongpo_the_hongc.json', 'r') as f:\n",
    "    review_list = json.load(f)\n",
    "\n",
    "review_list[:3]"
   ]
  },
  {
   "cell_type": "markdown",
   "id": "62f82c1e",
   "metadata": {},
   "source": [
    "### 좋은 평점 및 나쁜 평점 정의 코드"
   ]
  },
  {
   "cell_type": "code",
   "execution_count": 15,
   "id": "1000f2ec",
   "metadata": {},
   "outputs": [
    {
     "data": {
      "text/plain": [
       "(329, 91)"
      ]
     },
     "execution_count": 15,
     "metadata": {},
     "output_type": "execute_result"
    }
   ],
   "source": [
    "good_cnt, bad_cnt = 0, 0\n",
    "for r in review_list:\n",
    "    if r['stars'] == 5:\n",
    "        good_cnt += 1\n",
    "    else:\n",
    "        bad_cnt += 1\n",
    "\n",
    "good_cnt, bad_cnt"
   ]
  },
  {
   "cell_type": "markdown",
   "id": "7bef90af",
   "metadata": {},
   "source": [
    "### 좋은 리뷰 및 나쁜 리뷰로 구분 후 저장 "
   ]
  },
  {
   "cell_type": "code",
   "execution_count": 16,
   "id": "0fafad91",
   "metadata": {},
   "outputs": [
    {
     "data": {
      "text/plain": [
       "['[REVIEW_START]강릉 여행길에  들럿는데  아주 예약을 잘했어요\\n호텔이  주인의 품격이 느껴지더군요  \\n조용하고 좋습니다[REVIEW_END]',\n",
       " '[REVIEW_START]로비도 고급지고 객실도 깔끔하니 너무나 만족스런1박 했습니다.\\n침구가 너무 좋아서 잘 잘수있었어요.\\n다음에 여행가면 여기에 다시 묵을겁니다[REVIEW_END]',\n",
       " '[REVIEW_START]친절한 안내와 정리정돈도 잘 되어 있어 편안하게 잘수있었어요[REVIEW_END]']"
      ]
     },
     "execution_count": 16,
     "metadata": {},
     "output_type": "execute_result"
    }
   ],
   "source": [
    "reviews_good, reviews_bad = [], []\n",
    "for r in review_list:\n",
    "    if r['stars'] == 5:\n",
    "        # specital token 추가\n",
    "        reviews_good.append('[REVIEW_START]' + r['review'] + '[REVIEW_END]')\n",
    "    else:\n",
    "        # specital token 추가\n",
    "        reviews_bad.append('[REVIEW_START]' + r['review'] + '[REVIEW_END]')\n",
    "\n",
    "reviews_good[:3]"
   ]
  },
  {
   "cell_type": "markdown",
   "id": "50a89332",
   "metadata": {},
   "source": [
    "### 하나의 문자열로 합치기 "
   ]
  },
  {
   "cell_type": "code",
   "execution_count": 17,
   "id": "02e87580",
   "metadata": {},
   "outputs": [
    {
     "data": {
      "text/plain": [
       "'[REVIEW_START]강릉 여행길에  들럿는데  아주 예약을 잘했어요\\n호텔이  주인의 품격이 느껴지더군요  \\n조용하고 좋습니다[REVIEW_END]\\n[REVIEW_START]로'"
      ]
     },
     "execution_count": 17,
     "metadata": {},
     "output_type": "execute_result"
    }
   ],
   "source": [
    "# good 문자, 하나의 문자열로 합치기\n",
    "reviews_good_text = '\\n'.join(reviews_good)\n",
    "reviews_good_text[:100]"
   ]
  },
  {
   "cell_type": "code",
   "execution_count": 18,
   "id": "05f9f863",
   "metadata": {},
   "outputs": [
    {
     "data": {
      "text/plain": [
       "'[REVIEW_START]방음이 좀 안되긴 한데 욕실 깨끗해서 좋아요[REVIEW_END]\\n[REVIEW_START]공사한다고 예약힐때부터 알려주면좋겠고 체크인할때 공사한다고 불편'"
      ]
     },
     "execution_count": 18,
     "metadata": {},
     "output_type": "execute_result"
    }
   ],
   "source": [
    "# bad 문자, 하나의 문자열로 합치기\n",
    "reviews_bad_text = '\\n'.join(reviews_bad)\n",
    "reviews_bad_text[:100]"
   ]
  },
  {
   "cell_type": "markdown",
   "id": "010fb2e6",
   "metadata": {},
   "source": [
    "- 하나의 숙박시설에 대한 리뷰 데이터 전처리 함수 정의 "
   ]
  },
  {
   "cell_type": "code",
   "execution_count": null,
   "id": "c3bead4c",
   "metadata": {},
   "outputs": [],
   "source": [
    "# 정의부 \n",
    "import json\n",
    "import datetime\n",
    "from dateutil import parser\n",
    "\n",
    "def preprocess_reviews(data_path):\n",
    "\n",
    "    with open(data_path, 'r', encoding='utf-8') as f:\n",
    "        # list 형태로 json 파일 열기\n",
    "        review_list = json.load(f)\n",
    "    \n",
    "    # good, bad 데이터 저장 변수 초기화\n",
    "    reviews_good, reviews_bad = [], []\n",
    "    # 현재 이전 6개월 데이터 사용을 위해 날짜계산\n",
    "    current_date = datetime.datetime.now()\n",
    "    date_boundary = current_date - datetime.timedelta(days=6*30)\n",
    "    # print(date_boundary)\n",
    "\n",
    "    # 리뷰데이터 \n",
    "    for r in review_list:\n",
    "        review_date_str = r['date']\n",
    "        try:\n",
    "            # 리뷰 날짜 문자열을 datetime 객체로 변환\n",
    "            review_date = parser.parse(review_date_str)\n",
    "        except (ValueError, TypeError):\n",
    "            # 정상 날짜 데이터 아닌경우 현재 날짜 대입\n",
    "            review_date = current_date\n",
    "        # 날짜 바운더리 보다 작으면, pass\n",
    "        if review_date < date_boundary:\n",
    "            continue\n",
    "        # 평점 5점 기준\n",
    "        if r['stars'] == 5:\n",
    "            reviews_good.append('[REVIEW_START]' + r['review'] + '[REVIEW_END]')\n",
    "        else:\n",
    "            reviews_bad.append('[REVIEW_START]' + r['review'] + '[REVIEW_END]')\n",
    "\n",
    "    # good, bad 하나의 문자열 리스트로 합치기\n",
    "    reviews_good_text = '\\n'.join(reviews_good)\n",
    "    reviews_bad_text = '\\n'.join(reviews_bad)# good 리뷰와 bad 리뷰 반환\n",
    "    return reviews_good_text, reviews_bad_text"
   ]
  },
  {
   "cell_type": "code",
   "execution_count": null,
   "id": "4fc73eba",
   "metadata": {},
   "outputs": [
    {
     "data": {
      "text/plain": [
       "('[REVIEW_START]바닷가 바로앞이라 너무좋아요.\\n객실도 깨끗하고, 샤워기 수압좋고 따뜻한물 잘 나오는것도 좋았어요~ 친구들이랑 왔다가 다들 만족하고 갑니다ㅎ[REVIEW_END]\\n[REVIEW_START]오션뷰라 진짜 좋았어요!! ㅎㅎㅎ\\n제 생일이라 남자친구하고 처음 오션뷰 예약해서 온거였는데 진짜 색달랐어요. 옆에 바다보면서 닭강정먹고.. 또 새벽에 바다 구경하고.. 진짜 잘 보내다 가요🥰[REVIEW_END]\\n[REVIEW_START]황금연휴에 방문했는데 오션뷰가 정말 예쁘더라고요👍\\n저는 2층에 머물렀는데, 창밖으로 보이는 바다가 너무 아름다웠어요\\n직원분들도 모두 친절하셔서 기분 좋게 머물다 갑니다👏\\n다음에도 꼭 다시 방문하고 싶어요![REVIEW_END]\\n[REVIEW_START]위치좋고 직원들 전부 친절하고 재방문의사100%입니다[REVIEW_END]\\n[REVIEW_START]좋았습니다 수고하세요[REVIEW_END]\\n[REVIEW_START]괜찬아요\\n바다바로앞이라좋아요[REVIEW_END]\\n[REVIEW_START]강원도를 좋아하는 여행자입니다.\\n강릉 스카이베이,속초 카시아,롯데 다이용해봤지만\\n진짜 이가격에 이정도 퀄리티숙소 너무너무 만족하며 이용했습니다\\n침구며 객실관리가 청결하게 잘 관리되어있고\\n침대도 푹신하니 좋았어요\\n단점이라고 하면 이층이라그런가 밤늦게까지 폭죽소리가 너무 시끄러웠고\\n비게가 저한테는 높아서 좀 불편했다는 정도..?\\n이가격에 오션뷰에 호텔급 침구에 너무 만족했습니다\\n재방문의사 100프로입니다[REVIEW_END]\\n[REVIEW_START]강문해변 바로 앞이라 위치도 좋고 버스 정류장도 바로 근처라 이동이 너무 편리해서 좋았습니다. 객실과 화장실도 매우 청결 했어요! 너무 쾌적하게 잘 지내다 갑니다[REVIEW_END]\\n[REVIEW_START]내부가 깔끔했어요 \\n전망도 해안뷰가 이뻤어요\\n담에 또 오고싶네요[REVIEW_END]\\n[REVIEW_START]잘쉬었어요,,,,,[REVIEW_END]\\n[REVIEW_START]주차편해요 깨끗하고[REVIEW_END]\\n[REVIEW_START]깨끗하고 수압좋으요[REVIEW_END]\\n[REVIEW_START]바다소리들으며 편하게잤습니다 ㅎ\\n금연객실에ㆍ 회ㆍ대게 종류 반입이안되는데 그만큼관리하시고신경써서그런지 객실이너무청결해서 정말좋았습니다 \\n친절한응대도 👍 👍 👍 👍 👍 👍 👍 👍[REVIEW_END]\\n[REVIEW_START]깨끗하고 좋았어요.[REVIEW_END]\\n[REVIEW_START]오션뷰가 너무 예쁘고 방도 깨끗했습니다. 강릉 갈때마다 이용하는데 정말 좋아요.[REVIEW_END]\\n[REVIEW_START]위치 좋고 방 깨끗하고 해변도 보이고 좋았어요 ㅎㅎ[REVIEW_END]\\n[REVIEW_START]크진 않지만 방음도 좋고 깨끗하면 주차하는곳도 넓어 편하게 있다 왔네요[REVIEW_END]\\n[REVIEW_START]위치가 너무 사기에요!! 깔끔하고 쾌적했습니다~ㅎㅎㅎ[REVIEW_END]\\n[REVIEW_START]잘쉬었다왔어요.  .[REVIEW_END]\\n[REVIEW_START]전망이 좋고 아주 마음에 들었어요[REVIEW_END]\\n[REVIEW_START]뷰가 너무 좋았습니다 바다와 호수가 가까워서 편리했어요[REVIEW_END]\\n[REVIEW_START]방이 깨끗해서 좋았어요.[REVIEW_END]\\n[REVIEW_START]사진은없지만 객실 응대와\\n카운터 매너가 상당히 좋습니다\\n호텔 모텔 많이 다녀와봣지만 손꼽는 매너입니다\\n굿굿 객실도 깔끔했어요\\n특히 사장님 응대가 너무 좋았어요\\n또 강릉가게되면 여기입니다 😃[REVIEW_END]\\n[REVIEW_START]침구도 깨끗하구 좋았어요[REVIEW_END]\\n[REVIEW_START]청결 상태 매우 좋고 호텔 바로옆에는 편의점\\n바로 앞에는 경포해변 뷰가 엄청 멋졌어요\\n일요일엔 폭죽 터뜨리는 사람이 많아서 잘 때\\n조금 시끄러웠지만 넘어갈 수 있는 정도 ㅎㅎ\\n잘 놀고갑니다!![REVIEW_END]\\n[REVIEW_START]룸 컨디션 좋아요. 전망도 좋아요. 주차도 좋네요. 친절합니다.[REVIEW_END]\\n[REVIEW_START]스탠다드룸 작긴 하지만 깔끔하니 잘 지내다 가요:)\\n고층에 배정은 처음 받았는데 호수와 공원 모습이 예뻤어요[REVIEW_END]\\n[REVIEW_START]숙소 뷰가 너무 예쁘고 바다 와 식당들이 다 가까이에 있어서 좋았습니다 잘 자고 좋은 추억 남기고 갑니다![REVIEW_END]\\n[REVIEW_START]객실도 깨끗하고 사장님도 너무 친절하시고 좋았어요[REVIEW_END]\\n[REVIEW_START]친절한 24시간 데스크와 깔끔한 오션뷰, 깨끗한 객실 내부를 갖추고 있습니다. 다음에도 이용하고 싶은 숙소입니다.\\n\\n다만 아쉬운 점은 tv 자체의 문제인 건지 넷플릭스 개인계정 사용을 하더라도 넷플릭스가 멈춰 사용이 불가능 했습니다. 그 외의 것들은 모두 만족스럽게 이용하고 갑니다.[REVIEW_END]\\n[REVIEW_START]경포해변 바로 코 앞이고 직원분도 친절하시고 깨끗해서 좋아요!![REVIEW_END]\\n[REVIEW_START]출장으로이용했는데 아주 잘 이용했습니다[REVIEW_END]\\n[REVIEW_START]테라스도 있고 밑에서 담배냄새 올라오는거빼곤 다 좋았습니다![REVIEW_END]\\n[REVIEW_START]주차도 편하고 바로 앞에 바다도 보이고\\n진짜 바다 30초 거리에요!\\n바로 옆에 식당들도 많고 편의점도 가깝고 좋아요\\n지난주에 여행왔다 너무 좋아서\\n엄마랑 또 여행와서 여기 이용햤는데\\n강릉오면 여기만 이용하게 될 거 같아요 \\n룸 컨디션도 너무 좋고 밤에 불꽃놀이 하시는 분들 \\n있긴하지만 이중창이라 시끄럽게 들리지 않아요[REVIEW_END]\\n[REVIEW_START]조용하고 강뷰 예술이었음[REVIEW_END]\\n[REVIEW_START]강릉갈때마다 여기로 예약합니다 숙소에서 보는 호수뷰도 좋고 바로앞에 경포대라서 바다도 좋고 깨끗하고 친절하고 강추![REVIEW_END]\\n[REVIEW_START]출징시마다.이용합니다.. 굿[REVIEW_END]\\n[REVIEW_START]테라스가 있어서 바깥 구경하기 좋고 조용하고 깨끗해요\\n\\n주변에 먹을곳도 있고 다음에 재방문 의사 있어요[REVIEW_END]\\n[REVIEW_START]바다 바로 앞이라서 산책하기도 좋고 주변에 밥먹을곳도 있어서 접근성도 좋아요[REVIEW_END]\\n[REVIEW_START]깨끗하고 좋아요 \\n바로 앞에 바다도 있고 주변에 식당이나\\n편의시설이 다 가까워서 좋았아요[REVIEW_END]\\n[REVIEW_START]결혼기념일 맞아 급하게 떠나며 예약했는데...청소청결 너~~무~~깨끗하고 내집보다 깨끗하고 따뜻했고 너무 잘 쉬다 왔어요 늦은시간 도착했는데도 친절히 잘 설명해주셨고 따뜻한물 잘 나오고 전망도\\n탁트여서 바다가 한눈에 보이는게 집에 오기 싫더라구요 담에도 꼭 이용할게요 힐링그자체였습니다~~^^[REVIEW_END]\\n[REVIEW_START]경포대 오션뷰 정말 예뻐요ㅎㅎ 굳이 해변 안나가도 방에서 바다 편하게 볼 수 있어요! 사장님 친절하시구요, 무엇보다 침구류가 정말 좋아요ㅎㅎ 뽀송뽀송한 린넨향이 아직도 생각나요[REVIEW_END]\\n[REVIEW_START]가족과 함께 하룻밤 편안하게 보냈어요.\\n직원분이 친절하게 맞이해 주었고, 주차장이 넓어서 편안하게 주차를 했어요.\\n침대와 침대이불, 화징실 등 매우 청결했어요.\\n푹신한 침대에서 편히 잤어요.\\n바로 바다가 있어서 밤바다를 보고 일출도 보고..\\n행복한 시간이었습니다~🙂[REVIEW_END]\\n[REVIEW_START]깔끔하고 객실 향이 좋앗어요[REVIEW_END]\\n[REVIEW_START]무조건 강추 입니다... 다른말이 필요 없어요 \\n진짜 휴식이 뭔지를 보여준 듯한 숙소였어욤[REVIEW_END]\\n[REVIEW_START]5층배정받았는데 뷰가 엄청이쁘고 침구류에 예민한데 역시 후기들대로 깔끔하고좋습니다. 그리고 직원분들도 매우친절하시구요, 재방문의사있습니다.[REVIEW_END]\\n[REVIEW_START]친구들과 즐거운 휴가후 숙면 취하고 왔습니다~~^^[REVIEW_END]\\n[REVIEW_START]잘쉬었어요,,,,,[REVIEW_END]\\n[REVIEW_START]관리를 아주 잘 하시는 호텔 같아요\\n깨끗하고 컨디션이 흠잡을 곳이 없더라구요\\n객실도 조용하고 화장실까지 너무 깔끔하고 향도 좋아서 대만족 입니다. 위치도 매우좋고 창밖으로 보이는 뷰도 매우 좋아요. 재방문의사 100% 있어요~[REVIEW_END]\\n[REVIEW_START]저층이다보니 나무가 많이 보이긴해도 사이사이바다가 살짝보여요~\\n3층이상이여야 탁트인바다가보일듯\\n객실 너무청결하고 좋음\\n침구와욕실 모두 깔끔\\n깔끔떠는 중딩딸 대만족~~\\n아주즐거운 여행에 플러스를 주는 숙소였어요^^[REVIEW_END]\\n[REVIEW_START]숙소내부도 깔끔하고 전망도 좋았어요👍[REVIEW_END]\\n[REVIEW_START]엄청 깔끔합니다..!![REVIEW_END]\\n[REVIEW_START]강원도에 처음 가시는 엄마 모시고 여행 다녀왔는데 객실도 깨끗하고 따듯하고 너무 친절하셔서 여행 내내 행복하게 잘 지내다 왔습니다! 다음에 엄마랑 꼭 또 같이 갈게요🍀♥️[REVIEW_END]\\n[REVIEW_START]친구만나서 집근처에서 점심먹다가 강릉 바람쐬러 가? 진짜 가?? 하다가 정말로 뜬금없이 강릉 출발하면서 오후늦게 급하게 잡은 숙소인데 완전 만족했습니다.\\n\\n체크인 시 프론트 직원분이 친절하게 안내해주시고 객실복도에서 은은하게 퍼지는 디퓨져? 향도 좋았고 무엇보다 2층인데도 호텔 오션뷰는 완전 좋았고 객실 상태도 깨끗하고 침구류도 깨끗하고 포근해서 완전 좋았어요. 잘 쉬고 다음날 물회로 마무리 하고 갑니다~[REVIEW_END]\\n[REVIEW_START]결혼기념일 여행으로 강릉을  계획하고 예약한 호텔 마레  객실컨디션이 생각했던것보다 너무 좋더라구요  욕실 수전에  물자국조차도 없고 침구도 너무 보송보송 깨끗했어요\\n룸에 들어서자마자 바다가 보이고    해변이 바로 코앞이고 호텔뒤쪽으론 경포호수가 보이고 정말 완벽한 위치더라구요\\n옆쪽으론 식당과 횟집, 카페가 많아 식사하기도 좋고, 소개해주신 식당에서  맛있는식사도 하고\\n아침에 남편과 해변산책하기도 너무 좋았네요\\n또 방문하고 싶은 그런 편안하고 멋진 곳이네요~~[REVIEW_END]\\n[REVIEW_START]주차편하고 깨끗하고 좋았습니다[REVIEW_END]\\n[REVIEW_START]오션뷰가 정말 좋습니다[REVIEW_END]\\n[REVIEW_START]4층에서 바라보는 바다 뷰가 최고이며 숙소 관리도 잘되어 깨끗합니다[REVIEW_END]\\n[REVIEW_START]출장왔다가 푹 쉬고 갑니다. ^^[REVIEW_END]\\n[REVIEW_START]뷰가 정말 예뻤던 숙소였어요~ 사진은 3층입니다.\\n내부는 화장실까지 깨끗했고 침구도 좋았습니다.\\n티비로 유튜브도 보고 벽간 소음없이 잘 잤습니다.[REVIEW_END]\\n[REVIEW_START]숙소 고를때 오션뷰를 중요하게 생각했는데 바다가 엄청 잘보이고 좋았어요 숙소도 전반적으로 깨끗하고 좋았습니다[REVIEW_END]\\n[REVIEW_START]강릉와서 겨울바다와 함께 너무 행복하게 있다갑니다[REVIEW_END]\\n[REVIEW_START]숙소도 상세 이미지보다 크고 사장님도 친절하시고 사장님께서 맛있는 횟집도 추천해주십니다~~~~[REVIEW_END]\\n[REVIEW_START]숙소 깔끔하고 좋습니다![REVIEW_END]\\n[REVIEW_START]객실도 너무너무 깔끔했고 사장님도 엄청 친절했어요!!\\n\\n그리고 어메니티도 싸구려 하나 없이 다 좋더라구요!\\n원래 어메니티 폼클렌징 쓰면 얼굴이 너무 당기고 뾰루지가 꼭 났었는데 여기는 세수 직후에 촉촉하기도 했고 오히려 뾰루지가 하나 없어졌어요ㅋㅋㅋㅋ 이건 사바사라서 개인의견입니당!\\n아 그리고 바디워시가 달달한 망고향인데 진짜 코박죽 계속하고 있었는데 바디워시 제품명 물어볼껄 그랬어요.. 향기 넘좋아요,,\\n\\n객실간 소음도 안들리고 넷플릭스도 잘 되고 뷰도 예뻤어요!\\n정말 2박3일간 잘 쉬었습니다!!\\n다음에 또 올게요!![REVIEW_END]\\n[REVIEW_START]경포해변 바로 앞이라 진짜 너무 좋았고\\n숙소가 너무 청결해서 앞으로는 경포대 오면\\n여기만 이용할 거 같아요![REVIEW_END]\\n[REVIEW_START]경포대 해변이 바로 앞이여서 산책하기 좋았고\\n객실이 정말 깨끗했어요. 5성급 호텔처럼 깔끔하고 침대도 \\n너무편해서 좋았습니다.  화장실 역시 👍 \\n샴푸등 칫솔 스킨 로션 폼 면도기 믹스커피 아메리카노  ~~~등\\n준비가 다 되어 있어요.😍  \\n퇴실때 보니 다른방 청소하시는 모습에 한번더 반했답니다.\\n강릉오면 또 올께요.~~^^[REVIEW_END]\\n[REVIEW_START]친구들과 강릉 여행을 위해 예약했는데 숙소가 너무 깔끔하고 좋았습니다! 다음에 강릉에 오게 된다면 다시 올 것 같아요.[REVIEW_END]\\n[REVIEW_START]바다 앞에있어서 너무 좋고 편합니다![REVIEW_END]\\n[REVIEW_START]편하게 잘 쉬다갑니다.[REVIEW_END]\\n[REVIEW_START]일단 뷰가 .. 진짜 너무 좋습니다 \\n오션뷰 디럭스 방으로 하셔야지 아마 저런 뷰 나오실거에요 \\n근처에 먹을곳이 다 가까워서 좋았습니다\\n또 오고 싶어요 😊\\n방이 진짜 깔끔하더라구요 청결도는 100점인듯[REVIEW_END]\\n[REVIEW_START]여기는\\n진짜 최곱니다… 정말 강릉 올 때마다 방문하고 싶을 정도로 너무 좋은 숙소였어요!! 침구도 깨끗하고 포근해서 잠도 잘 왔구요. 어메니티도 정말 필요한 것들만 있어서 좋았어요. 특히 샤워타월 있는게 정말 좋았습니당 ㅎㅎ 저희는\\n오션뷰 방 선택했는데 진짜 뷰가 작살납니다… 너무 예뻐서 하루종일 바다만 봤어요!!ㅋㅋㅋ 다음에 강릉 오면 또 방문하겠습니다 ㅎㅎ[REVIEW_END]\\n[REVIEW_START]객실과 객실 사이 소음이 전혀 들리지 않고 온수도 잘 나오며 해변가 바다 전망이 좋았어요[REVIEW_END]\\n[REVIEW_START]뷰가 너무 좋고 방이 너무 따뜻해서 너무 좋아요[REVIEW_END]\\n[REVIEW_START]직원분들 정말 친절하시고 오션뷰였는데 기가 막혔음.\\n매년 방문 예정임. 강추임.[REVIEW_END]\\n[REVIEW_START]전체적으로 관리가 잘된 느낌이에요 완전 깔끔합니다!!\\n건물 앞엔 경포바다가, 건물 뒤엔 경포호수가..\\n뷰도 너무 좋고 뜨거운물도 잘 나옵니당ㅎㅎㅎ[REVIEW_END]\\n[REVIEW_START]돈을 더 투자해서 오션뷰를 선택하길 잘한 것 같아요! \\n겨울이라 추운데 밖에 나가지 않아도 되고, 아침에 눈을 뜨자마자 바다와 수평선을 볼 수 있어요 등대도 하나 있어서 사진도 잘 나오더라구요👍\\n\\n그리고 정말정말 깨끗해요.. 청결에 신경을 많이 쓰시는 것 같습니다! 연박청소도 해주셨는데 처음 그대로 깨끗이 청소해주시고 물, 어메니티, 수건 등 다시 채워주셔서 너무 좋았습니다😆\\n\\n아쉬운 점은 회를 반입해서 먹을 수 없는 것이였어요.. 하지만 그만큼 정말 관리를 열심히 하셔서 너무 깨끗해서 괜찮았습니다!\\n\\n직원분들도 조곤조곤 친절하시고, 뷰도 좋고, 청결한 숙소라서 다시 방문하고 싶은 숙소였습니다! 남자친구도 너무 잘 찾았다고 좋아하더라구요! 잘 묵다 갑니다🥰[REVIEW_END]\\n[REVIEW_START]경포 바다가 바로 앞에 있어 전망이 좋고 객실도 깔끔하니 다음에 또 오고 싶네요~ 잘 쉬다 갑니다^^[REVIEW_END]\\n[REVIEW_START]경포 바다가 바로 앞에 있어 전망이 좋고 객실도 깔끔하니 다음에 또 오고 싶네요~ 잘 쉬다 갑니다^^[REVIEW_END]\\n[REVIEW_START]너무 좋았습니다! 또 방문할게용!![REVIEW_END]\\n[REVIEW_START]방 진짜 깨끗했고 어매니티도 왠만한건 다 있어서 편했어요! 비치되어있는 바디워시 냄새가 되게 좋더라구요 망고향인가 방도 깨끗했고 경포호가 보여서 좋았습니다! 또 강릉에 가게된다면 재방문 의향 있습니다😊[REVIEW_END]\\n[REVIEW_START]잘쉬었어요,,,,,[REVIEW_END]\\n[REVIEW_START]후기가 좋길래 고민 끝에 여기로 정하고 방문했는데 객실도 깨끗하고 크진 않지만 있을 거 다 있고 무엇보다 뷰가 너무 좋아서 완전 만족합니다!ㅎㅎ[REVIEW_END]\\n[REVIEW_START]살면서 첨으로 친구와 여행와서 숙소를 많이 기대했는데 정말 만족하였습니다 숙소 바로 앞이 바다여서 놀다가 숙소에 들어가기도 정말 편했어요 숙소 정말 깨끗하고 티비도 커서 좋아요 화장실도 완전 깨끗합니다 또 오고싶을정도로 추천[REVIEW_END]\\n[REVIEW_START]깔끔함 진짜진짜 깔끔함 담배냄새 안남 건물내에 흡연을 할수없게 설명과 관리가 잘된다는걸느낌 레이크뷰 오션뷰보다 더좋았던듯 눈뜨면 보이는뷰 510호[REVIEW_END]\\n[REVIEW_START]강릉 경포 마레 호텔 추천합니다🤍[REVIEW_END]\\n[REVIEW_START]후회 없는 선택... 진짜 여태 가본 숙소 중 가장 깨끗했고 모든 직원분들도 친절했습니다 블로그 후기도 쓸 거에영\\n재방문 의사 100%!![REVIEW_END]\\n[REVIEW_START]리셉션 직원분들 모두 친절하시고, 청소해주시는 분들도 웃으면서 즐겁게 청소해주시는 모습이 보기 좋았습니다.\\n물론 숙소도 매우 맘에 들었습니다. 다음에 또 이용할 것 같아요.[REVIEW_END]\\n[REVIEW_START]여러분 여기 진짜 깔끔하고 두번 오고싶은 숙소에요...!! 경포바다 뷰는 아니고 호수 뷰였는데 오히려 좋았고 진짜 최근에 다녔던 숙소중에 가장 깔끔 했습니다..!! 한박 더 할까 생각도 했어요... 아쉬운건 전자레인지가 없는거였는데 햇반만 돌릴거라 편의점에서 돌려왔어요ㅠ 진짜 깔끔합니다 ㅋㅋ 군더더기없어요 화장실도 욕조는 없지만 넓습니다![REVIEW_END]\\n[REVIEW_START]깔끔하고 친절해 좋습니다[REVIEW_END]\\n[REVIEW_START]숙소에서 보이는 뷰가 너무 아름다웠습니다 가성비 여행으로 추천드려요~[REVIEW_END]\\n[REVIEW_START]깔끔하고 오션뷰도 좋아요[REVIEW_END]\\n[REVIEW_START]관리 상태가 좋았어요[REVIEW_END]\\n[REVIEW_START]일하시는분들이 매우 친절하시고 화장실이 너무 깨끗하고 좋았어요[REVIEW_END]\\n[REVIEW_START]객실 엄청 깨끗하고 친절하셔서 푹 쉬다가 온 하루였어요.\\n매우 만족합니다~~^^[REVIEW_END]\\n[REVIEW_START]깨끗하고 좋습니다.!!![REVIEW_END]\\n[REVIEW_START]친절하고  숙소청결도는  최고입니다[REVIEW_END]\\n[REVIEW_START]객실이 너무깨끗하고 냄새도 안나고 좋았습니다~ 테라스쪽도 너무 깨끗해서 바다뷰 보러 나가기 좋았습니다 ㅎㅎ 직원분들까지 친절해서 완벽한 숙소였어요 다음에도 여행오면 여기선택할꺼 같아요😁[REVIEW_END]\\n[REVIEW_START]첫 이용때 좋은기억으로 남아서 두번째 방문했어요! 여전히 바다뷰가 예쁘고 깨끗해서 강릉여행때마다 이용하고싶은 숙소입니다![REVIEW_END]\\n[REVIEW_START]객실은 깨끗하고 좋았어요:) 다만 새벽에는 난방이 꺼진건지 추워서 여러번 깼어요 아쉽긴하지만 해변도 가깝고 호수도 가까워서 좋았습니다[REVIEW_END]\\n[REVIEW_START]강릉여행 다녀온 친구 소개로 예약 했어요.\\n실내가 군더더기 없이 깔끔하고 바닥이 따뜻해서 좋았어요\\n특히 침대 시트가 청결해서 젤 맘에 들었어요. 숙소는 침대 시트와 화장실 청결이 젤 중요하다고 봅니다. 뷰도 넘 좋았고..담에 갈때는 오션뷰로 예약해셔 방에서 일출도 보면 좋겠다 싶었어요~~경포 호수와 대관령뷰도 좋긴해요. 실내 사진은 못찍어서 바깥뷰라도 올려 드려요. 후기는 첨 씁니다 ^^[REVIEW_END]\\n[REVIEW_START]늦게 도착했는데도 불구하고 친절하게 맞이해주셔서 너무 좋았어요. 객실 상태도 깨끗하고 방도 깨끗하고 소음도 없고 너무 편하게 잘 쉬다 왔네요. 퇴실 할 때에도 여행 잘 하시고 가시라고 인사해주셔거 너무 기분이 좋았어요. 다음에 또 오고 싶은 곳 입니다. 바닷가에서 너무 가까워서 그것도 좋았네요.[REVIEW_END]\\n[REVIEW_START]마레호텔 깨끗하고 좋았습니다..!\\n하지만 전자레인지가 없는 점이\\n조금 아쉬웠습니다.\\n그래도 저렴하고 버스정거장과\\n해변의 접근성이 용이한것이 큰 장점입니다..![REVIEW_END]\\n[REVIEW_START]무난히 출장 숙박에 좋아요~~[REVIEW_END]\\n[REVIEW_START]바로 앞에 강과 바다가 있어서 어느 뷰를 선택해도 경치가 다 이쁘네요!! 친절하게 응대해주셔서 감사했습니다 :)\\n(발코니에서 찍은 사진입미다!)[REVIEW_END]\\n[REVIEW_START]일출을 보고싶어 예약한 곳이었는데 아쉽게 일출을 볼수 있는 위치가 아니었지만 깨끗하고 친절하여 푹 잘 쉬다가 왔습니다.[REVIEW_END]\\n[REVIEW_START]청결해서 너무 좋았고!! 바로 해변 앞이라서 위치가 너무 좋습니다!!\\n일어나자마자 바로 일출도 보고 너무 좋았던 시간들이였습니다!! 다음에 날 풀리면 또 놀러갈께요😁[REVIEW_END]\\n[REVIEW_START]매우 깨끗하고 불쾌한 냄새도 전혀없는 깨끗한 객실이었습니다. 친절보다는 다소 엄근진 하게 객실내 유의사항을 안내해주시는 모습은 조금 특이했습니다. 너무 진지하셔서 속으로 웃참을 좀 했습니다.\\n아무튼 절대금연 숙소, 좋은뷰, 연말여행에 너무 좋은 선택이었습니다.[REVIEW_END]\\n[REVIEW_START]오션뷰가 정말 좋았습니다.[REVIEW_END]\\n[REVIEW_START]너무 깔끔하고 조명도 이쁘고 좋았습니다[REVIEW_END]\\n[REVIEW_START]해변가와 정말 가까이 있어서 언제든 바다 가까이 보고 싶음 볼 수 있고 아침에 눈 떴을 때 뷰에 깜짝 놀랄 정도로 좋았어요. 숙소 내부도 매우 깔끔하고 욕실 관리도 정말 잘 되어 있고 모든 면에서 만족스러운 호텔이었습니다.[REVIEW_END]\\n[REVIEW_START]깔끔하고 뷰가 좋습니다[REVIEW_END]\\n[REVIEW_START]숙소가 청결하고 뷰가 너무 좋았어요~[REVIEW_END]\\n[REVIEW_START]직원분이 상당히 친절하시고 새해 일출보러갔는데 바다앞이라 너무 좋았어요 다음에 또 갈 예정입니당~~!![REVIEW_END]\\n[REVIEW_START]바다가 매우 잘 보이고 숙소도 깔끔하고 좋았어요~[REVIEW_END]\\n[REVIEW_START]뷰가 너무 좋고 깨끗해서 좋았어요[REVIEW_END]\\n[REVIEW_START]객실이 너무 깨끗하고 인프라가 좋아요[REVIEW_END]\\n[REVIEW_START]레이크뷰로 예약했는데, 급히 잡은 숙소였지만 가격도 위치도 너무 만족합니다 \\n도착해서 주차해놓고 바다도 보고 걸어서 식당으로 갈 수 있는 위치라 동선이 너무 좋고 기본적인 어메니티가 있어서  잘 쓰구, 룸컨디션도 좋았어요 딱 있을거 있고 군더더기 없이 푹 쉬고 왔습니다[REVIEW_END]\\n[REVIEW_START]카운터 직원 분도 매번 친절하게 인사 해 주시고 사장님도 설명을 잘 해 주셔서 좋았습니다. 그리고 저는 삼층을 배정 받았는데, 나무에 좀 가려서 밖에 바다가 온전히 다 보이진 않았지만 파도 소리와 바다를 한눈에 보고 듣고 감상할 수 있어 좋았습니다. 그리고 뜨거운 물이 너무 잘 나와서 피곤한 몸을 풀기에 끝내 줬습니다\\n객실이 조금 자면 위층 벨소리나 기타 등등의 소리가 조금 들리니 이점은 참고 하였으면 좋겠습니다. 소리에 민감 하지 않은 분들은 완전 추천합니다. 다음에 기회가 되면 또 방문 할 것 같습니다. 감사합니다.[REVIEW_END]\\n[REVIEW_START]건물이 전체적으로 깔끔하고 객실 관리도 잘 되어있었어요!! 추운 날에도 너무 따뜻하고 쾌적하게 잘 놀다 왔어요🥹💕 오션뷰도 좋고 침구도, 화장실도, 분위기도 완벽합니당✨️❤️\\u200d🔥 주차장도 지상이랑 지하 둘 다 있어서 주차도 편리하고 근처에 식당이나 편의점, 노래방 다 있어서 완전 강추입니다!!![REVIEW_END]\\n[REVIEW_START]깨끗하고 바다뷰가좋아요[REVIEW_END]\\n[REVIEW_START]뷰도 좋고 시설및 응대가 좋았어요..[REVIEW_END]\\n[REVIEW_START]너무좋아요~ 잘놀다왓습니단!!!!![REVIEW_END]\\n[REVIEW_START]자알쉬댜감미댜앙~💟[REVIEW_END]\\n[REVIEW_START]레이크뷰 2회차 방문중인데, 너무 만족해요.\\n방 청결도 흠잡을곳 1도 없고, 침구류 너무 푹신하구 깨끗해요! 호수와 바다 사이의 숙소라니.. 위치도 너무 좋네요\\n다음에 강릉 오게되면 오션뷰로 잡아볼까해요\\n잘 머물다 갑니다![REVIEW_END]\\n[REVIEW_START]말이 필요 없어요. 사진을 보세요~[REVIEW_END]\\n[REVIEW_START]오션뷰 전망은 여기가 최고에요. 세인트루이스랑 고민했는데 가격도 그렇고 시설, 전망 다 여기가 훨씬 좋습니다.[REVIEW_END]\\n[REVIEW_START]깨끗하고 좋았습니다[REVIEW_END]\\n[REVIEW_START]잘쉬었어요 잘쉬었어요[REVIEW_END]',\n",
       " '[REVIEW_START]우선 바람이 불어서 예정보다 30분 숙소 입실을 허락해줌\\n그런데 오션뷰 2층 205호는 앞에 가로수들때문에 오션전혀 기대하시면 안됩니다. 그리고 침구는 발자국 같이 물들어있는것과 솜이 훤히 보이는 침구여서 완전 별로였음. 그러나 물은 시원하게 잘나오고 시설외관은 깨끗해보임 냉장고는 물이 줄줄세고 머리빗은 따로 챙겨가야함.[REVIEW_END]\\n[REVIEW_START]기분 좋게 애인과 다녀왔습니다.\\n처음 들어왔을때 응대부터 카운터가 잘 보이는 자리임에도\\n핸드폰 게임을 하며 의자 뒤로 제껴놓고 응대를 \\n한참 뒤에한 후 , 저희는 방키를 받아 올라갔습니다.\\n기분 좋은날이니 그냥 신경쓰지말자고 하고 방에 올라갔는데 오션뷰? 제대로 보이지도 않습니다ㅎ\\n침대 너무 딱딱했구요. 평일임에도 싼가격은 아니었는데 이런것들이 겹치니 불만이 있었습니다.\\n밖에서 식사를 하고 피곤해서 자는데 에어컨 제대로 되지도 않았고, 더워서 창문을 열어놓았는데 새벽4시까지 폭죽 터트리는 소리에 미쳐요(평일)\\n밤새 잠도 설치고 짐 정리해서 나왔는데 옷을 의자 위에 두고 온것이 생각이나서 전화 했더니 없다네요..ㅋ\\n분명 의자에 올려두고 잊고 온건 저희 잘못이지만 가격이 있는 옷이라 설마 했는데 청소하면서 못봤을리도 없고 청소하는 사람이 챙긴건지ㅎㅎ 없다고 하네요 정말 호텔이라는 곳에서 어이가없습니다ㅋㅋ\\n다들 귀중품 꼭 챙기시길 바랍니다. \\n다시는 가고싶지않네요ㅎ[REVIEW_END]\\n[REVIEW_START]감사합니다감사합니다[REVIEW_END]\\n[REVIEW_START]숙소에 공용 전자레인지가 없어서.. 그게 제일 아쉬웠어요\\n깨끗하긴한데 침구에서 묘하게 쾌쾌한 냄새가 나는데 왜그런지 잘 모르겠네요 ㅠㅠ\\n그리고 중문이 없어서 소음이 너무 잘들립니다...[REVIEW_END]\\n[REVIEW_START]✅️ 전망 좋은 호텔\\n\\n✅️ 깔끔한 오션뷰, 그리고 최고의 베드 컨디셔닝.[REVIEW_END]\\n[REVIEW_START]깨끗하고 방컨디션 좋았어요\\n단점으로는 따뜻한 물이 나오려면 한참을 틀어나야 나와요[REVIEW_END]\\n[REVIEW_START]레이크 디럭스 트윈이였는데..객실에서는 잘안보였지만.. 어차피 뷰는 밤에 잘안보이니깐 ..   아침에 경포대와 해변산책 하기 좋았어요!!! 트윈베드라 좋았고 객실이  깔끔해서 좋았어요![REVIEW_END]\\n[REVIEW_START]강릉역에서 20분 정도 버스타고 들어가거나 택시타고 10분이면 가요! 사정이 생겨서 바로 올라왔지만 경포호 경포해변 다 있어서 풍경이 좋은 곳이에요~ 다음에 쉬러 한번 더 방문할게요[REVIEW_END]\\n[REVIEW_START]장점: 뷰 좋음. 인테리어 나쁘지 않음. 전반적으로 깔끔함.\\n단점: 주인 매우 불친절함. 로비에 앉아있을 곳 없음.[REVIEW_END]\\n[REVIEW_START]청결도 좋습니다\\n냄새x\\n물잘나옴[REVIEW_END]\\n[REVIEW_START]객실과 욕실 군더더기 없이 깨끗합니다 씨뷰로 예약한다는게 잘못해서 당일 방교환 3만원 추가해서 이용했는데 조용하고 뷰하나는 정말 좋았습니다. 다만 회,대게 포장이용 안되고 침구류는 좀 마니 불편했습니다. 그외 위치나 사용상 불편은 없었어요~~[REVIEW_END]\\n[REVIEW_START]침구, 객실 깨끗하고 경포대 바로 앞이라 뷰가 좋았습니다.\\n체크인할때 여러가지 설명해주셨는데  회,대게 사다먹지말아라, 배달음식 물어보고 시켜라, 방,화장실,테라스 절대금연이다, 테이블 의자 위치 변경하지 말아라,, (엘베앞,엘베벽에도 주의사항 잔뜩 붙어있음)무슨 훈련소 입소하는기분이었습니다ㅋㅋㅋ\\n최대한 높은층으로 부탁드린다고 했더니 3층이 젤 높은거라고 먼가 AI처럼 설명해주시는데 뻘쭘했어요ㅋㅋ\\n체크아웃도 10시45분에 11시 퇴실 준비해달라고 룸으로 전화옵니다ㅋ[REVIEW_END]\\n[REVIEW_START]11시 전에 전화하셔서\\n체크아웃 하라는게 좀 불쾌했습니다[REVIEW_END]\\n[REVIEW_START]남자친구랑 첫 여행으로 강릉 왔는데 숙소 뷰가 정말 맛집이었습니다🥹✨👍 1박 비용이 살짝 부담스럽긴 했지만 체크인 오픈런 해서 층수를 높게 배정 받은 덕분에 행복하구 예쁜 추억 많이 만들고 갑니당🤭❣️그리고 신축이라서 화장실을 포함한 숙소 내부나 침구류 청결한 거는 말할 필요도 없었습니다👍😎👍 그래도 굳이 아쉬운 점을 뽑자면 배달음식을 1층에서 받아야 한다는거,,,? OTT를 개인계정으로 로그인 해야 한다는거,,,? (물론 와이파이 짱 잘 됨) 그렇지만 나중에 다시 강릉에 온다면 또 다시 묵고 싶을 정도로 후회 없는 숙소였습니당❣️그리고 위치도 좋은 편이라서 근처 맛집 가기도 좋고 체고에요 증맬😇[REVIEW_END]\\n[REVIEW_START]좋은추억만들고왔네요😁\\n최고👍[REVIEW_END]\\n[REVIEW_START]어매니티와 침구가 좋았어요 물론 오션뷰도 좋았구요[REVIEW_END]\\n[REVIEW_START]숙소 깨끗하고 전망 참 좋습니다[REVIEW_END]\\n[REVIEW_START]후기평을 좀 내려보면 알 수 있듯이 나무에 가려 오션뷰가 안 보이는 객실(2층)이 존재함에도 예약홈페이지에 끝까지 고지 안 하고 배짱영업함 (후기 보니 꽤 오랜 시간이 지났는데도 그대로임)체크인 할때 가서야 안 보일 수 있다 고지함 나도 따졌고 다른 사람들도 따지는걸 들음 카운터부터 엘리베이터에도 하지말라는거 추가요금 등등 엄청나게 많은 경고문이 붙어있고 이렇게 눈치보면서 묵어야하는건지 모르겠음\\n일단 겨울에는 중앙난방이라 추워도 온도조절안됨 화장실도 배수 안 되고 매트리스는 너무 딱딱하며 침구는 너무 거칠고 거의 여관급 퀄리티임 방음도 최악이다 11시 체크아웃인데 10시 좀 넘어서부터 머리까진 주인아저씨가 여자직원한테 전화돌리라고 말함 다른 리뷰에서도 볼 수 있음 심지어 가운있다는 리뷰 보고 갔는데 없음 내려가서 물어봤더니 먼지가 쌓여서 구비를 안 해놨다? 어이가 없었음 주인아저씨가 이상한 웃음 지으면서 이해해달라고 친절한 척 하는데 악마를 가장한 웃음 같음 5만원이면 가겠지만 20만원?10만원? 턱도 없는 가격임 차라리 저 돈으로 폭죽 왕창 사서 터뜨리거나 바다에 소원빌면서 던지겠음 \\n결론 : 좋은 리뷰만 보지말고 이 리뷰를 보고 판단하여 결정하시길 바랍니다 웬만한건 다 적어둠[REVIEW_END]\\n[REVIEW_START]2층 오션뷰는 나무에 가려져서 잘 보이지도 않아요\\n수압좋고 숙소상태는 깨끗한데 화장실 비데가 없는것도 아쉬웠구요[REVIEW_END]\\n[REVIEW_START]시설이 깨끗하고 좋으네요.\\n해변가에 위치해 있어서인지 좀 추웠어요..[REVIEW_END]\\n[REVIEW_START]깨끗하고 위치가 좋아요[REVIEW_END]\\n[REVIEW_START]하지말라는것 너무 많음. (숙소 자체 통제)\\n엘리베이터 타면 무슨말인지 알수있음.\\n어차피 실내에서는 잠만 잘생각이였는데,,,[REVIEW_END]\\n[REVIEW_START]오션뷰라고 예약했으나, 소나무에 가려져 바다는 전혀 보이지 않았습니다. 카운터에 문의하니. 2.3층 선착순으로 방배정 되다보니 안보이는 방도 있다고 죄송하다고 답변하셨어요.;;  그럼 오션뷰라고 하면 안되는거 아닌가요? \\n\\n매우 당황했고요, 2차는 넷플릭스가 안됩니다. 12월부터 안됐던것 같은데, 체크인 하고 엘리베이터 안에 공지문 보고 알았습니다. 안되면 사이트에 변경사항을 올려놔야하는거 아닌가요?\\n\\n그 부분도 문의 드렸더니, 사이트를 본인들이 관리를 안하신다는 당황스러운 답을 들었어요. \\n\\n 그외 2층과5층은 개별난방이라고 방에서 히터를 사용합니다. 히터가 침대 바로 위에 있다보니 밤새 얼굴이 건조해지고 바닥은 차고 침구류는 차갑고..\\n\\n  일찍숙소들어가 넷플이나 보면서 바다구경하자고 쉬는 여행으로 예약 한 곳인데 그냥 잠만자고 나왔습니다. 어디에도 이런 글은 없고 온통 칭찬이라 후기 찾아보고 예약했는데도 불구하고 속이 상했네요.\\n\\n 저 같은 분 또 계실까하여 올립니다. 잘 알아보시고 선택하시길 바랍니다[REVIEW_END]\\n[REVIEW_START]새건물이라 깔끔하고 침구류도 좋고 위치도 저희는 괜찮았고 1층 로비에서 먹는 커피도 맛났어요^^ 난방이 조금 아쉬웠슴당 춥진 않아요~~!! 다만 좀 따뜻하게 있고 싶으면 히터를 켜야하는데 넘 건조해져서 껐다 켰다 했네요 ㅎ[REVIEW_END]\\n[REVIEW_START]전체적으로 깨끗하고 직원들 친절합니다.\\n감사합니다~[REVIEW_END]\\n[REVIEW_START]호텔은 깨끗했지만 오션뷰에 나무가 많이 가려있어\\n아쉬웠어요..오션뷰라고 해서 기대 많이 했는데 중간에\\n나무가 가리고 양싸이드로 바다가 보이는....\\n직원분은 여자분은 엄청 친절하셨고 남자분은 불친절은\\n아니지만 무뚝뚝? 친절하단 느낌은 없었어요..[REVIEW_END]\\n[REVIEW_START]오션뷰를 기대하고 오션 디럭스 트윈을 여약했습니다 그런데 바다가 하나도 보이지 않네요 프론트에 사진을 보여주며 이야기 하니 바다 있는 방향으로 창이 있으면 오션뷰라고 하더군요 오션뷰 방과 아닌 방이 요금도 다른데 오션뷰라고 작성하지를 말던가 바다가 잘 보이지 않을 수 있다고 미리 표기라도 해놔야죠..방 변경도 불가능하다고 하고 환불도 입실이 완료된 상태라 환불이 불가능하다고 안해주더라고요 입실한지 10분도 되지 않은 상태고 뷰를 확인하고 바로 프론트에 간거였는데 그렇게 얘기했어요 여기 저기 숙소 많이 가봤지만 맘에 안들어서 리뷰 남긴건 처음이네요 프론트에서 사장님과 얘기를 나누다가 더 얘기 나누면 감정 상할 것 같아서 그만하였고 후기로 남깁니다 오션뷰 트윈은 2, 3층밖에 없어 나무에 가려져 바다가 안보일 수 있으니 오션뷰 기대를 하고 가지 않는게 좋을 것 같네요 가격에 비해 크게 실망하고 갑니다..[REVIEW_END]\\n[REVIEW_START]숙소가 깨끗하고 주차장이 넓어서 편해요\\n헤어드라이기 및 어메니티가 잘 구비되어 있어요[REVIEW_END]\\n[REVIEW_START]숙소는 매우 쾌적하나 고객응대 아쉽습니다[REVIEW_END]\\n[REVIEW_START]화장실배수 안되고 샤워하면 역류\\n시설 점검도 했으면ㅠㅠ[REVIEW_END]\\n[REVIEW_START]오션뷰 전망이 정말 마음에 들고\\n침대도 편안하고 객실이 전반적으로 청결하며\\n고객 응대도 친절하여 이번이 두번째 방문이었네요!\\n다음에도 계속 여기서 투숙할 생각입니다! ^^[REVIEW_END]')"
      ]
     },
     "execution_count": 31,
     "metadata": {},
     "output_type": "execute_result"
    }
   ],
   "source": [
    "# 호출부 \n",
    "data_path = \"res/1.gangneung_mare.json\"\n",
    "preprocess_reviews(data_path)\n",
    "# print(preprocess_reviews(data_path))\n"
   ]
  },
  {
   "cell_type": "code",
   "execution_count": null,
   "id": "a6a2d846",
   "metadata": {},
   "outputs": [
    {
     "data": {
      "text/plain": [
       "datetime.datetime(2024, 12, 6, 12, 34, 6, 11136)"
      ]
     },
     "execution_count": 36,
     "metadata": {},
     "output_type": "execute_result"
    }
   ],
   "source": [
    "# 날짜 정리 \n",
    "# import datetime\n",
    "# current_date = datetime.datetime.now()\n",
    "# current_date - datetime.timedelta(days=6*30)"
   ]
  },
  {
   "cell_type": "code",
   "execution_count": null,
   "id": "950b36b0",
   "metadata": {},
   "outputs": [],
   "source": []
  }
 ],
 "metadata": {
  "kernelspec": {
   "display_name": "llm_env",
   "language": "python",
   "name": "python3"
  },
  "language_info": {
   "codemirror_mode": {
    "name": "ipython",
    "version": 3
   },
   "file_extension": ".py",
   "mimetype": "text/x-python",
   "name": "python",
   "nbconvert_exporter": "python",
   "pygments_lexer": "ipython3",
   "version": "3.12.9"
  }
 },
 "nbformat": 4,
 "nbformat_minor": 5
}
