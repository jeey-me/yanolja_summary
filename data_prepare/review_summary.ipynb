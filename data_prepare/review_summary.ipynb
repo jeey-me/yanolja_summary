{
 "cells": [
  {
   "cell_type": "markdown",
   "id": "2c13c042",
   "metadata": {},
   "source": [
    "# GPT를 활용해 리뷰요약 best prompt 작성\n",
    "- 우리 서비스에서 사용할 GPT모델 : gpt3.5-turbo"
   ]
  },
  {
   "cell_type": "markdown",
   "id": "07e20e38",
   "metadata": {},
   "source": []
  },
  {
   "cell_type": "code",
   "execution_count": null,
   "id": "a91814db",
   "metadata": {},
   "outputs": [
    {
     "name": "stdout",
     "output_type": "stream",
     "text": [
      "API Key loaded: sk-proj-vm...\n",
      "Hello! How can I assist you today?\n"
     ]
    }
   ],
   "source": [
    "import os\n",
    "from openai import OpenAI\n",
    "from dotenv import load_dotenv\n",
    "\n",
    "# 절대경로나 정확한 상대경로 지정\n",
    "load_dotenv('C:/Users/Admin/kpmg_future_lab/LLM_ex/yanolja_summary/.env', override=True)\n",
    "\n",
    "# 환경 변수에서 API 키 가져오기\n",
    "OPENAI_API_KEY = os.environ.get(\"OPENAI_API_KEY\")\n",
    "print(f\"API Key loaded: {OPENAI_API_KEY[:10]}...\")  # 앞 10글자만 출력 (확인용)\n",
    "\n",
    "# OpenAI 클라이언트 생성\n",
    "client = OpenAI(api_key=OPENAI_API_KEY)\n",
    "\n",
    "# Chat API 호출\n",
    "response = client.chat.completions.create(\n",
    "    model='gpt-3.5-turbo-0125',\n",
    "    messages=[{'role': 'user', 'content': 'hi'}],\n",
    "    temperature=0.0\n",
    ")\n",
    "\n",
    "# 응답 출력\n",
    "print(response.choices[0].message.content)\n"
   ]
  },
  {
   "cell_type": "markdown",
   "id": "737ed3fc",
   "metadata": {},
   "source": [
    "# 데이터 전처리 \n",
    "- 리뷰 데이터 파일 로딩 \n",
    "- 리뷰 요약 기준 (평점 1-5)\n",
    "    - good : 평점 5\n",
    "    - bad : 평점 4이하 \n",
    "- 각 리뷰마다 스페셜 토큰 \n",
    "    - '[REVIEW_START]' + r['review'] + '[REVIEW_END]'\n"
   ]
  },
  {
   "cell_type": "markdown",
   "id": "fc3e429f",
   "metadata": {},
   "source": [
    "## 데이터 전처리 함수 작성 "
   ]
  },
  {
   "cell_type": "code",
   "execution_count": 14,
   "id": "723f2498",
   "metadata": {},
   "outputs": [
    {
     "data": {
      "text/plain": [
       "[{'review': '강릉 여행길에  들럿는데  아주 예약을 잘했어요\\n호텔이  주인의 품격이 느껴지더군요  \\n조용하고 좋습니다',\n",
       "  'stars': 5,\n",
       "  'date': '2025.02.03'},\n",
       " {'review': '로비도 고급지고 객실도 깔끔하니 너무나 만족스런1박 했습니다.\\n침구가 너무 좋아서 잘 잘수있었어요.\\n다음에 여행가면 여기에 다시 묵을겁니다',\n",
       "  'stars': 5,\n",
       "  'date': '2024.12.23'},\n",
       " {'review': '친절한 안내와 정리정돈도 잘 되어 있어 편안하게 잘수있었어요',\n",
       "  'stars': 5,\n",
       "  'date': '2024.12.09'}]"
      ]
     },
     "execution_count": 14,
     "metadata": {},
     "output_type": "execute_result"
    }
   ],
   "source": [
    "import json\n",
    "\n",
    "with open('./res/3.kyongpo_the_hongc.json', 'r') as f:\n",
    "    review_list = json.load(f)\n",
    "\n",
    "review_list[:3]"
   ]
  },
  {
   "cell_type": "markdown",
   "id": "62f82c1e",
   "metadata": {},
   "source": [
    "### 좋은 평점 및 나쁜 평점 정의 코드"
   ]
  },
  {
   "cell_type": "code",
   "execution_count": 15,
   "id": "1000f2ec",
   "metadata": {},
   "outputs": [
    {
     "data": {
      "text/plain": [
       "(329, 91)"
      ]
     },
     "execution_count": 15,
     "metadata": {},
     "output_type": "execute_result"
    }
   ],
   "source": [
    "good_cnt, bad_cnt = 0, 0\n",
    "for r in review_list:\n",
    "    if r['stars'] == 5:\n",
    "        good_cnt += 1\n",
    "    else:\n",
    "        bad_cnt += 1\n",
    "\n",
    "good_cnt, bad_cnt"
   ]
  },
  {
   "cell_type": "markdown",
   "id": "7bef90af",
   "metadata": {},
   "source": [
    "### 좋은 리뷰 및 나쁜 리뷰로 구분 후 저장 "
   ]
  },
  {
   "cell_type": "code",
   "execution_count": 16,
   "id": "0fafad91",
   "metadata": {},
   "outputs": [
    {
     "data": {
      "text/plain": [
       "['[REVIEW_START]강릉 여행길에  들럿는데  아주 예약을 잘했어요\\n호텔이  주인의 품격이 느껴지더군요  \\n조용하고 좋습니다[REVIEW_END]',\n",
       " '[REVIEW_START]로비도 고급지고 객실도 깔끔하니 너무나 만족스런1박 했습니다.\\n침구가 너무 좋아서 잘 잘수있었어요.\\n다음에 여행가면 여기에 다시 묵을겁니다[REVIEW_END]',\n",
       " '[REVIEW_START]친절한 안내와 정리정돈도 잘 되어 있어 편안하게 잘수있었어요[REVIEW_END]']"
      ]
     },
     "execution_count": 16,
     "metadata": {},
     "output_type": "execute_result"
    }
   ],
   "source": [
    "reviews_good, reviews_bad = [], []\n",
    "for r in review_list:\n",
    "    if r['stars'] == 5:\n",
    "        # specital token 추가\n",
    "        reviews_good.append('[REVIEW_START]' + r['review'] + '[REVIEW_END]')\n",
    "    else:\n",
    "        # specital token 추가\n",
    "        reviews_bad.append('[REVIEW_START]' + r['review'] + '[REVIEW_END]')\n",
    "\n",
    "reviews_good[:3]"
   ]
  },
  {
   "cell_type": "markdown",
   "id": "50a89332",
   "metadata": {},
   "source": [
    "### 하나의 문자열로 합치기 "
   ]
  },
  {
   "cell_type": "code",
   "execution_count": 17,
   "id": "02e87580",
   "metadata": {},
   "outputs": [
    {
     "data": {
      "text/plain": [
       "'[REVIEW_START]강릉 여행길에  들럿는데  아주 예약을 잘했어요\\n호텔이  주인의 품격이 느껴지더군요  \\n조용하고 좋습니다[REVIEW_END]\\n[REVIEW_START]로'"
      ]
     },
     "execution_count": 17,
     "metadata": {},
     "output_type": "execute_result"
    }
   ],
   "source": [
    "# good 문자, 하나의 문자열로 합치기\n",
    "reviews_good_text = '\\n'.join(reviews_good)\n",
    "reviews_good_text[:100]"
   ]
  },
  {
   "cell_type": "code",
   "execution_count": 18,
   "id": "05f9f863",
   "metadata": {},
   "outputs": [
    {
     "data": {
      "text/plain": [
       "'[REVIEW_START]방음이 좀 안되긴 한데 욕실 깨끗해서 좋아요[REVIEW_END]\\n[REVIEW_START]공사한다고 예약힐때부터 알려주면좋겠고 체크인할때 공사한다고 불편'"
      ]
     },
     "execution_count": 18,
     "metadata": {},
     "output_type": "execute_result"
    }
   ],
   "source": [
    "# bad 문자, 하나의 문자열로 합치기\n",
    "reviews_bad_text = '\\n'.join(reviews_bad)\n",
    "reviews_bad_text[:100]"
   ]
  },
  {
   "cell_type": "markdown",
   "id": "010fb2e6",
   "metadata": {},
   "source": [
    "- 하나의 숙박시설에 대한 리뷰 데이터 전처리 함수 정의 "
   ]
  },
  {
   "cell_type": "code",
   "execution_count": null,
   "id": "c3bead4c",
   "metadata": {},
   "outputs": [],
   "source": [
    "# 정의부 \n",
    "import datetime\n",
    "from dateutil import parser\n",
    "\n",
    "def preprocess_reviews(data_path):\n",
    "\n",
    "    with open(data_path, 'r', encoding='utf-8') as f:\n",
    "        # list 형태로 json 파일 열기\n",
    "        review_list = json.load(f)\n",
    "    \n",
    "    # good, bad 데이터 저장 변수 초기화\n",
    "    reviews_good, reviews_bad = [], []\n",
    "    # 현재 이전 6개월 데이터 사용을 위해 날짜계산\n",
    "    current_date = datetime.datetime.now()\n",
    "    date_boundary = current_date - datetime.timedelta(days=6*30)\n",
    "    # print(date_boundary)\n",
    "\n",
    "    # 리뷰데이터 \n",
    "    for r in review_list:\n",
    "        review_date_str = r['date']\n",
    "        try:\n",
    "            # 리뷰 날짜 문자열을 datetime 객체로 변환\n",
    "            review_date = parser.parse(review_date_str)\n",
    "        except (ValueError, TypeError):\n",
    "            # 정상 날짜 데이터 아닌경우 현재 날짜 대입\n",
    "            review_date = current_date\n",
    "        # 날짜 바운더리 보다 작으면, pass\n",
    "        if review_date < date_boundary:\n",
    "            continue\n",
    "        # 평점 5점 기준\n",
    "        if r['stars'] == 5:\n",
    "            reviews_good.append('[REVIEW_START]' + r['review'] + '[REVIEW_END]')\n",
    "        else:\n",
    "            reviews_bad.append('[REVIEW_START]' + r['review'] + '[REVIEW_END]')\n",
    "\n",
    "    # good, bad 하나의 문자열 리스트로 합치기\n",
    "    reviews_good_text = '\\n'.join(reviews_good)\n",
    "    reviews_bad_text = '\\n'.join(reviews_bad)# good 리뷰와 bad 리뷰 반환\n",
    "    return reviews_good_text, reviews_bad_text\n"
   ]
  },
  {
   "cell_type": "code",
   "execution_count": 39,
   "id": "4fc73eba",
   "metadata": {},
   "outputs": [
    {
     "data": {
      "text/plain": [
       "'[REVIEW_START]바닷가 바로앞이라 너무좋아요.\\n객실도 깨끗하고, 샤워기 수압좋고 따뜻한물 잘 나오는것도 좋았어요~ 친구들이랑 왔다가 다들 만족하고 갑니다ㅎ[REVIEW_E'"
      ]
     },
     "execution_count": 39,
     "metadata": {},
     "output_type": "execute_result"
    }
   ],
   "source": [
    "# 호출부 \n",
    "data_path = \"res/1.gangneung_mare.json\"\n",
    "preprocess_reviews(data_path)\n",
    "# print(preprocess_reviews(data_path))\n",
    "good, bad = preprocess_reviews(data_path)\n",
    "good[:100]\n"
   ]
  },
  {
   "cell_type": "code",
   "execution_count": 36,
   "id": "a6a2d846",
   "metadata": {},
   "outputs": [
    {
     "data": {
      "text/plain": [
       "datetime.datetime(2024, 12, 6, 12, 34, 6, 11136)"
      ]
     },
     "execution_count": 36,
     "metadata": {},
     "output_type": "execute_result"
    }
   ],
   "source": [
    "# 날짜 정리 \n",
    "# import datetime\n",
    "# current_date = datetime.datetime.now()\n",
    "# current_date - datetime.timedelta(days=6*30)"
   ]
  },
  {
   "cell_type": "code",
   "execution_count": 40,
   "id": "4f05ef97",
   "metadata": {},
   "outputs": [
    {
     "data": {
      "text/plain": [
       "'[REVIEW_START]우선 바람이 불어서 예정보다 30분 숙소 입실을 허락해줌\\n그런데 오션뷰 2층 205호는 앞에 가로수들때문에 오션전혀 기대하시면 안됩니다. 그리고 침구는 발'"
      ]
     },
     "execution_count": 40,
     "metadata": {},
     "output_type": "execute_result"
    }
   ],
   "source": [
    "bad[:100]"
   ]
  },
  {
   "cell_type": "markdown",
   "id": "b8dcffc4",
   "metadata": {},
   "source": [
    "### 평가용 함수 작성 \n",
    "#### 평가 기준 설정 \n",
    "- MT-Bench 논문 기반 Pairwise Comparision (=LLM 기반 평가)\n",
    "    - 비교하는 방식 vs. 점수 매기는 방식\n",
    "    - 점수라는게 애매 할 수 있음 (ex. 어느 정도의 요약 품질이 3점인가?)\n",
    "    - 경험상 점수보다는 비교가 상대적으로 더 정확한 편\n",
    "\n",
    "#### 평가 스크립트 작성 \n",
    "- MT-Bench 논문 Prompt에서 일부 단어만 수정 (ex. Korean summaries, accommodations)\n",
    "    - [[A]] – 어시스턴트 A가 더 나을 경우\n",
    "    - [[B]] – 어시스턴트 B가 더 나을 경우\n",
    "    - [[C]] – 두 응답이 동등한 품질일 경우"
   ]
  },
  {
   "cell_type": "code",
   "execution_count": 41,
   "id": "da338a2e",
   "metadata": {},
   "outputs": [],
   "source": [
    "# def pairwise_eval(리뷰원본, AI_a, AI_b):\n",
    "def pairwise_eval(reviews, answer_a, answer_b):\n",
    "    # 평가 프롬프트 \n",
    "    eval_prompt = f\"\"\"[System]\n",
    "Please act as an impartial judge and evaluate the quality of the Korean summaries provided by two\n",
    "AI assistants to the set of user reviews on accommodations displayed below. You should choose the assistant that\n",
    "follows the user's instructions and answers the user's question better. Your evaluation\n",
    "should consider factors such as the helpfulness, relevance, accuracy, depth, creativity,\n",
    "and level of detail of their responses. Begin your evaluation by comparing the two\n",
    "responses and provide a short explanation. Avoid any position biases and ensure that the\n",
    "order in which the responses were presented does not influence your decision. Do not allow\n",
    "the length of the responses to influence your evaluation. Do not favor certain names of\n",
    "the assistants. Be as objective as possible. After providing your explanation, output your\n",
    "final verdict by strictly following this format: \"[[A]]\" if assistant A is better, \"[[B]]\"\n",
    "if assistant B is better, and \"[[C]]\" for a tie.\n",
    "[User Reviews]\n",
    "{reviews}\n",
    "\n",
    "[The Start of Assistant A's Answer]\n",
    "{answer_a}\n",
    "[The End of Assistant A's Answer]\n",
    "\n",
    "[The Start of Assistant B's Answer]\n",
    "{answer_b}\n",
    "[The End of Assistant B's Answer]\"\"\"\n",
    "    \n",
    "    # OpenAI API를 사용하여 평가 요청\n",
    "    completion = client.chat.completions.create(\n",
    "        model='gpt-4o-2024-05-13',\n",
    "        messages=[{'role': 'user', 'content': eval_prompt}],\n",
    "        temperature=0.0\n",
    "    )\n",
    "\n",
    "    return completion.choices[0].message.content"
   ]
  },
  {
   "cell_type": "markdown",
   "id": "c6e9c825",
   "metadata": {},
   "source": [
    "### Baseline 응답 개발 "
   ]
  },
  {
   "cell_type": "code",
   "execution_count": 42,
   "id": "f1871291",
   "metadata": {},
   "outputs": [],
   "source": [
    "PROMPT_BASELINE = f\"\"\"아래 숙소 리뷰에 대해 5문장 내로 요약해줘:\"\"\""
   ]
  },
  {
   "cell_type": "code",
   "execution_count": 47,
   "id": "0359ad36",
   "metadata": {},
   "outputs": [],
   "source": [
    "# 높은 평점만 리뷰 데이터만 받음음\n",
    "reviews, _ = preprocess_reviews(data_path='./res/3.kyongpo_the_hongc.json')"
   ]
  },
  {
   "cell_type": "markdown",
   "id": "196716b6",
   "metadata": {},
   "source": [
    "### 리뷰 데이터 요약 함수 정의 및 실행"
   ]
  },
  {
   "cell_type": "code",
   "execution_count": 48,
   "id": "e4654756",
   "metadata": {},
   "outputs": [
    {
     "name": "stdout",
     "output_type": "stream",
     "text": [
      "강릉 여행 중 예약한 호텔은 주인의 품격이 느껴지며 조용하고 좋았다. 로비와 객실이 고급스럽고 깔끔해서 만족스러웠고, 침구가 편안해서 잘 수 있었다. 친절한 안내와 청결한 환경으로 편안하게 머물렀고, 위치도 좋아서 편안한 휴식을 즐겼다. 부모님도 만족하셨고, 직원들의 친절함과 시설의 깨끗함이 좋았다.\n"
     ]
    }
   ],
   "source": [
    "def summarize(reviews, prompt, temperature=0.0, model='gpt-3.5-turbo-0125'):\n",
    "    prompt = prompt + '\\n\\n' + reviews\n",
    "\n",
    "    completion = client.chat.completions.create(\n",
    "        model=model,\n",
    "        messages=[{'role': 'user', 'content': prompt}],\n",
    "        temperature=temperature\n",
    "    )\n",
    "\n",
    "    return completion.choices[0].message.content\n",
    "\n",
    "print(summarize(reviews, PROMPT_BASELINE))"
   ]
  },
  {
   "cell_type": "markdown",
   "id": "2692d0d0",
   "metadata": {},
   "source": [
    "### 응답결과 평가하기 \n",
    "대조군 문장 정의하기"
   ]
  },
  {
   "cell_type": "code",
   "execution_count": 49,
   "id": "4c58a199",
   "metadata": {},
   "outputs": [
    {
     "data": {
      "text/plain": [
       "'이 숙소는 청결하고 깔끔한 객실과 편안한 침구로 많은 이용객들에게 좋은 평가를 받았습니다. 직원들의 친절한 서비스와 고급스러운 로비도 만족스러운 요소로 언급되었습니다. 위치가 좋고 주변 인프라가 잘 갖춰져 있어 편리하게 이용할 수 있습니다. 다만, 배달 음식 제한과 방음 문제는 일부 아쉬운 점으로 지적되었습니다. 전반적으로 재방문 의사가 많고 추천할 만한 숙소로 평가받고 있습니다.'"
      ]
     },
     "execution_count": 49,
     "metadata": {},
     "output_type": "execute_result"
    }
   ],
   "source": [
    "# 대조군 문장 가져오기(야놀자 AI good 요약 문장)\n",
    "# summary_real_20250530 = '숙소는 강릉 경포해변 바로 앞에 위치하며, 오션뷰와 경포호수 전망을 제공합니다. 객실과 화장실이 청결하게 관리되고 있으며, 편안한 침대와 고급 침구로 쾌적한 숙박 환경을 제공합니다. 주변에 식당과 편의시설이 가까워 접근성이 좋고, 주차 공간도 넓습니다. 직원들의 친절한 응대와 서비스도 긍정적인 평가를 받고 있으며, 대체로 소음 차단이 잘 이루어져 조용한 환경에서 휴식을 취할 수 있습니다. 전반적으로 방문자들은 숙소의 청결도와 편안함, 아늑한 분위기에 매우 만족하는 후기를 남기고 있습니다.'\n",
    "\n",
    "summary_4o_20250530 = summarize(reviews, PROMPT_BASELINE, temperature=0.0, model='gpt-4o-2024-05-13')\n",
    "summary_4o_20250530"
   ]
  },
  {
   "cell_type": "code",
   "execution_count": 50,
   "id": "74ef9607",
   "metadata": {},
   "outputs": [
    {
     "name": "stdout",
     "output_type": "stream",
     "text": [
      "Both Assistant A and Assistant B provided summaries of the user reviews, but there are notable differences in their approaches.\n",
      "\n",
      "**Assistant A's Summary:**\n",
      "- Focuses on the positive aspects of the hotel, such as the owner's quality, quietness, luxurious lobby and rooms, comfortable bedding, friendly staff, and cleanliness.\n",
      "- Mentions that the location is good and that parents were satisfied.\n",
      "- Overall, the summary is positive but lacks mention of any negative points or areas for improvement.\n",
      "\n",
      "**Assistant B's Summary:**\n",
      "- Highlights the cleanliness, comfortable bedding, and friendly staff as positive aspects.\n",
      "- Also mentions the luxurious lobby and good location with well-developed infrastructure.\n",
      "- Points out some negative aspects, such as the restriction on delivery food and soundproofing issues.\n",
      "- Concludes with a general positive note about the high likelihood of revisits and recommendations.\n",
      "\n",
      "**Evaluation:**\n",
      "- **Helpfulness:** Both summaries are helpful, but Assistant B provides a more balanced view by including both positive and negative aspects.\n",
      "- **Relevance:** Both summaries are relevant to the user reviews.\n",
      "- **Accuracy:** Both summaries accurately reflect the user reviews, but Assistant B's inclusion of negative points makes it more comprehensive.\n",
      "- **Depth:** Assistant B's summary has more depth due to the inclusion of both pros and cons.\n",
      "- **Creativity:** Both summaries are straightforward and lack creative elements.\n",
      "- **Level of Detail:** Assistant B provides a more detailed summary by mentioning specific issues like delivery food restrictions and soundproofing.\n",
      "\n",
      "Overall, Assistant B's summary is more comprehensive and balanced, providing a fuller picture of the user reviews.\n",
      "\n",
      "**Final Verdict:**\n",
      "[[B]]\n"
     ]
    }
   ],
   "source": [
    "# 비교하기\n",
    "# pairwise_eval(리뷰 데이터, AI 요약한 데이터_A, 대조군 AI 문장_B))\n",
    "print(pairwise_eval(reviews, summarize(reviews, PROMPT_BASELINE), summary_4o_20250530))"
   ]
  },
  {
   "cell_type": "markdown",
   "id": "8f458379",
   "metadata": {},
   "source": [
    "두 어시스턴트(A와 B)는 사용자 리뷰를 요약했지만, 접근 방식에 있어 뚜렷한 차이가 있습니다.  \n",
    "\n",
    "어시스턴트 A의 요약:  \n",
    "\n",
    "호텔의 긍정적인 면에 초점을 맞추고 있음. 예를 들어, 좋은 주인, 조용한 분위기, 고급스러운 로비와 객실, 편안한 침구, 친절한 직원, 청결함 등을 언급함.  \n",
    "\n",
    "위치가 좋고, 부모님도 만족하셨다는 언급이 있음.  \n",
    "\n",
    "전반적으로 긍정적인 요약이지만, 단점이나 개선할 부분은 언급하지 않음.  \n",
    "\n",
    "어시스턴트 B의 요약:  \n",
    "\n",
    "청결함, 편안한 침구, 친절한 직원 등 긍정적인 요소를 강조함.  \n",
    "\n",
    "고급스러운 로비와 좋은 위치(잘 갖춰진 인프라 포함)도 언급함.  \n",
    "\n",
    "배달 음식 제한, 방음 문제 등의 부정적인 요소도 함께 언급함.  \n",
    "\n",
    "재방문 의사와 추천 가능성 등 긍정적인 결론으로 마무리함.  \n",
    "\n",
    "평가:  \n",
    "\n",
    "도움성: 두 요약 모두 도움이 되지만, 어시스턴트 B는 장단점을 모두 언급해 더 균형 잡힌 정보를 제공함.  \n",
    "\n",
    "관련성: 두 요약 모두 사용자 리뷰와 관련이 높음.  \n",
    "\n",
    "정확성: 두 요약 모두 리뷰 내용을 정확하게 반영함. 단, 어시스턴트 B는 단점도 언급하여 더 포괄적임.  \n",
    "\n",
    "깊이: 어시스턴트 B는 장단점을 모두 포함하여 더 깊이 있는 분석을 제공함.  \n",
    "\n",
    "창의성: 두 요약 모두 직설적이며 창의적인 요소는 부족함.  \n",
    "\n",
    "세부사항: 어시스턴트 B는 배달 음식 제한, 방음 문제 등 구체적인 사항을 언급해 더 상세함.  \n",
    "\n",
    "최종 결론:  \n",
    "어시스턴트 B의 요약이 사용자 리뷰를 보다 균형 잡고 포괄적으로 반영하여 더 우수한 것으로 평가됨.  \n",
    "\n"
   ]
  },
  {
   "cell_type": "markdown",
   "id": "84e88ff8",
   "metadata": {},
   "source": [
    "## 대규모 평가 스크립트 \n",
    "- 원래는 많은 수의 다양한 데이터에 대해 평가하지만 동일한 프롬프트에 대해 temperature 높여서 평가 진행  "
   ]
  },
  {
   "cell_type": "code",
   "execution_count": 52,
   "id": "f1191332",
   "metadata": {},
   "outputs": [
    {
     "data": {
      "text/plain": [
       "['강릉 여행 중 예약한 숙소는 주인의 품격이 느껴지며 조용하고 좋았고, 객실은 고급스럽고 깔끔하며 침구가 훌륭했어요. 직원들이 친절하고 안락한 환경에서 편안한 휴식이 가능했습니다. 위치가 좋고 깨끗하며 침구 상태가 좋았고, 부모님도 만족하셨습니다. 전체적으로 깨끗하고 친절하며 편안한 숙소였습니다.',\n",
       " '강릉 여행 중 예약한 호텔은 주인의 품격을 느낄 수 있는 조용하고 깨끗한 숙소였다. 고급 로비와 깔끔한 객실에서 편안히 쉬었으며, 친절한 안내와 청결한 시설로 만족했다. 위치가 좋고 침구상태도 좋아서 부모님도 만족하셨다. 전체적으로 만족스러운 서비스와 편안한 휴식을 즐긴 후 나감.',\n",
       " '강릉 여행길에 예약한 호텔은 주인의 품격이 느껴지는 조용하고 좋은 숙소였습니다. 로비도 고급스럽고 객실도 깔끔해서 만족스러운 1박을 했어요. 직원들도 친절하고 청결한 숙소에서 편안히 쉴 수 있었어요. 위치도 좋고 침구 상태도 좋아서 잘 묵고 갑니다. 부모님도 만족하셔서 좋았고, 다음에도 이용할 의사가 있어요.',\n",
       " '강릉 여행길에 예약한 호텔은 주인의 품격이 느껴지고 조용하고 좋았다. 로비와 객실이 고급스럽고 깔끔하며 침구가 편안해서 만족스러웠다. 친절한 안내와 정리정돈이 잘 되어 있어 편안했고 위치도 좋아서 잘 쉬다 갔다. 숙소는 깨끗하고 이쁘며 침구 상태가 좋았고 직원들도 친절했다.체크인 시간보다 일찍 도착했는데 빠른 일처리에 감사하고 다음에도 이용할 의사가 있다고 했다.',\n",
       " '강릉 여행 중 예약한 호텔은 조용하고 편안하며 주인의 품격이 느껴져 만족스러웠다. 고급 로비와 깔끔한 객실에서 편안히 쉬고, 침구도 훌륭했다. 숙소는 깨끗하고 위치도 좋아서 편안한 숙박을 경험했으며, 직원들의 친절한 안내도 기억에 남는다. 부모님도 만족하셨고, 편안한 휴식을 즐길 수 있는 좋은 숙소였다.',\n",
       " '강릉 여행길에 예약을 잘한 호텔로 조용하고 품격있는 분위기, 깨끗하고 편안한 숙소로 만족했고, 친절한 안내와 정리정돈으로 편안한 휴식을 취할 수 있었으며, 위치가 좋아서 잘 쉬다 간다는 평이 남고, 깨끗하고 친절한 서비스로 만점 평가를 받았다.',\n",
       " '강릉 여행 중 호텔 예약 잘 한 것 같아요. 주인의 품위를 느낄 수 있고 조용하고 깨끗하네요. 만족스러운 1박이었습니다. 침구도 편안해서 다음에도 묵을 의향 있어요. 위치도 좋고 청결하고 친절해서 좋았어요.',\n",
       " '강릉 여행길에 예약을 잘한 호텔, 고급스러운 인테리어와 조용한 숙소, 깨끗하고 침구가 편안한 곳, 친절하고 청결한 숙소, 완벽한 휴식을 즐길 수 있는 좋은 숙박 장소입니다.',\n",
       " '강릉 여행길에 예약을 잘한 호텔, 주인의 품격 느껴지고 조용하고 좋은 곳. 로비와 객실이 고급스러우며 침구도 편안하고 만족스러운 1박. 친절한 안내와 청결한 숙소로 편안한 휴식을 취할 수 있었음. 위치가 좋고 깨끗한 숙소, 부모님이 만족하셨고 친절한 직원들로 좋은 인상을 받았음. 청결하고 만족스러운 숙박이었고 조식도 맛있었으며 직원들의 친절한 서비스로 편안한 휴식을 취할 수 있었음.',\n",
       " '강릉 여행 중 예약한 호텔이 호스트의 품격이 느껴지고 조용하며 좋다. 로비와 객실이 고급스럽고 깔끔하여 만족스러운 1박을 했으며, 다음에도 묵을 의향이 있다. 친절한 안내와 청결한 숙소로 편안하게 머물렀고, 위치도 좋아서 잘 쉬었다 간다. 부모님도 만족한 숙소였으나 방음이 조금 아쉬운 부분이라고 한다.']"
      ]
     },
     "execution_count": 52,
     "metadata": {},
     "output_type": "execute_result"
    }
   ],
   "source": [
    "# 같은 리뷰에 대해서 요약을 10번 수행(일반적으로는 50~100번 수행하면 좋음)\n",
    "eval_count = 10\n",
    "\n",
    "summaries_baseline = [summarize(reviews, PROMPT_BASELINE, temperature=1.0) for _ in range(eval_count)]\n",
    "summaries_baseline"
   ]
  },
  {
   "cell_type": "code",
   "execution_count": 53,
   "id": "bb93f4eb",
   "metadata": {},
   "outputs": [
    {
     "data": {
      "text/plain": [
       "['이 숙소는 청결하고 깔끔한 객실과 편안한 침구로 많은 이용객들에게 좋은 평가를 받았습니다. 직원들의 친절한 서비스와 고급스러운 로비도 만족스러운 요소로 언급되었습니다. 위치가 좋고 주변 인프라가 잘 갖춰져 있어 편리하게 이용할 수 있습니다. 다만, 배달 음식 제한과 방음 문제는 일부 아쉬운 점으로 지적되었습니다. 전반적으로 재방문 의사가 많고 추천할 만한 숙소로 평가받고 있습니다.',\n",
       " '이 숙소는 청결하고 깔끔한 객실과 편안한 침구로 많은 이용객들에게 좋은 평가를 받았습니다. 직원들의 친절한 서비스와 고급스러운 로비도 만족스러운 요소로 언급되었습니다. 위치가 좋고 주변 인프라가 잘 갖춰져 있어 편리하게 이용할 수 있습니다. 다만, 배달 음식 제한과 방음 문제는 일부 아쉬운 점으로 지적되었습니다. 전반적으로 재방문 의사가 많고 추천할 만한 숙소로 평가받고 있습니다.',\n",
       " '이 숙소는 청결하고 깔끔한 객실과 편안한 침구로 많은 이용객들에게 좋은 평가를 받았습니다. 직원들의 친절한 서비스와 고급스러운 로비도 만족스러운 요소로 언급되었습니다. 위치가 좋고 주변 인프라가 잘 갖춰져 있어 편리하게 이용할 수 있습니다. 다만, 배달 음식 제한과 방음 문제는 일부 아쉬운 점으로 지적되었습니다. 전반적으로 재방문 의사가 많고 추천할 만한 숙소로 평가받고 있습니다.',\n",
       " '이 숙소는 청결하고 깔끔한 객실과 편안한 침구로 많은 이용객들에게 좋은 평가를 받았습니다. 직원들의 친절한 서비스와 고급스러운 로비도 만족스러운 요소로 언급되었습니다. 위치가 좋고 주변 인프라가 잘 갖춰져 있어 편리하게 이용할 수 있습니다. 다만, 배달 음식 제한과 방음 문제는 일부 아쉬운 점으로 지적되었습니다. 전반적으로 재방문 의사가 많고 추천할 만한 숙소로 평가받고 있습니다.',\n",
       " '이 숙소는 청결하고 깔끔한 객실과 편안한 침구로 많은 이용객들에게 좋은 평가를 받았습니다. 직원들의 친절한 서비스와 고급스러운 로비도 만족스러운 요소로 언급되었습니다. 위치가 좋고 주변 인프라가 잘 갖춰져 있어 편리하게 이용할 수 있습니다. 다만, 배달 음식 제한과 방음 문제는 일부 아쉬운 점으로 지적되었습니다. 전반적으로 재방문 의사가 많고 추천할 만한 숙소로 평가받고 있습니다.',\n",
       " '이 숙소는 청결하고 깔끔한 객실과 편안한 침구로 많은 이용객들에게 좋은 평가를 받았습니다. 직원들의 친절한 서비스와 고급스러운 로비도 만족스러운 요소로 언급되었습니다. 위치가 좋고 주변 인프라가 잘 갖춰져 있어 편리하게 이용할 수 있습니다. 다만, 배달 음식 제한과 방음 문제는 일부 아쉬운 점으로 지적되었습니다. 전반적으로 재방문 의사가 많고 추천할 만한 숙소로 평가받고 있습니다.',\n",
       " '이 숙소는 청결하고 깔끔한 객실과 편안한 침구로 많은 이용객들에게 좋은 평가를 받았습니다. 직원들의 친절한 서비스와 고급스러운 로비도 만족스러운 요소로 언급되었습니다. 위치가 좋고 주변 인프라가 잘 갖춰져 있어 편리하게 이용할 수 있습니다. 다만, 배달 음식 제한과 방음 문제는 일부 아쉬운 점으로 지적되었습니다. 전반적으로 재방문 의사가 많고 추천할 만한 숙소로 평가받고 있습니다.',\n",
       " '이 숙소는 청결하고 깔끔한 객실과 편안한 침구로 많은 이용객들에게 좋은 평가를 받았습니다. 직원들의 친절한 서비스와 고급스러운 로비도 만족스러운 요소로 언급되었습니다. 위치가 좋고 주변 인프라가 잘 갖춰져 있어 편리하게 이용할 수 있습니다. 다만, 배달 음식 제한과 방음 문제는 일부 아쉬운 점으로 지적되었습니다. 전반적으로 재방문 의사가 많고 추천할 만한 숙소로 평가받고 있습니다.',\n",
       " '이 숙소는 청결하고 깔끔한 객실과 편안한 침구로 많은 이용객들에게 좋은 평가를 받았습니다. 직원들의 친절한 서비스와 고급스러운 로비도 만족스러운 요소로 언급되었습니다. 위치가 좋고 주변 인프라가 잘 갖춰져 있어 편리하게 이용할 수 있습니다. 다만, 배달 음식 제한과 방음 문제는 일부 아쉬운 점으로 지적되었습니다. 전반적으로 재방문 의사가 많고 추천할 만한 숙소로 평가받고 있습니다.',\n",
       " '이 숙소는 청결하고 깔끔한 객실과 편안한 침구로 많은 이용객들에게 좋은 평가를 받았습니다. 직원들의 친절한 서비스와 고급스러운 로비도 만족스러운 요소로 언급되었습니다. 위치가 좋고 주변 인프라가 잘 갖춰져 있어 편리하게 이용할 수 있습니다. 다만, 배달 음식 제한과 방음 문제는 일부 아쉬운 점으로 지적되었습니다. 전반적으로 재방문 의사가 많고 추천할 만한 숙소로 평가받고 있습니다.']"
      ]
     },
     "execution_count": 53,
     "metadata": {},
     "output_type": "execute_result"
    }
   ],
   "source": [
    "pairwise_words = [summary_4o_20250530 for _ in range(len(summaries_baseline))]\n",
    "pairwise_words"
   ]
  },
  {
   "cell_type": "code",
   "execution_count": 54,
   "id": "021e2bc3",
   "metadata": {},
   "outputs": [
    {
     "name": "stderr",
     "output_type": "stream",
     "text": [
      "100%|██████████| 10/10 [00:43<00:00,  4.36s/it]"
     ]
    },
    {
     "name": "stdout",
     "output_type": "stream",
     "text": [
      "Wins: 0, Losses: 10, Ties: 0\n"
     ]
    },
    {
     "name": "stderr",
     "output_type": "stream",
     "text": [
      "\n"
     ]
    }
   ],
   "source": [
    "from tqdm import tqdm\n",
    "\n",
    "def pairwise_eval_batch(reviews, answers_a, answers_b):\n",
    "    a_cnt, b_cnt, draw_cnt = 0, 0, 0\n",
    "    for i in tqdm(range(len(answers_a))):\n",
    "        # 최종 결과\n",
    "        verdict_text = pairwise_eval(reviews, answers_a[i], answers_b[i])\n",
    "\n",
    "        # A인경우 카운트\n",
    "        if '[[A]]' in verdict_text:\n",
    "            a_cnt += 1\n",
    "        # B인경우 카운트\n",
    "        elif '[[B]]' in verdict_text:\n",
    "            b_cnt += 1\n",
    "        # C인경우 카운트\n",
    "        elif '[[C]]' in verdict_text:\n",
    "            draw_cnt += 1\n",
    "        # 나머지\n",
    "        else:\n",
    "            print('Evaluation Error')\n",
    "    # a good, b bad, c 무승부 비슷함.\n",
    "    return a_cnt, b_cnt, draw_cnt\n",
    "\n",
    "# 요약한 것과 대조군 비교\n",
    "wins, losses, ties = pairwise_eval_batch(reviews, summaries_baseline, [summary_4o_20250530 for _ in range(len(summaries_baseline))])\n",
    "print(f'Wins: {wins}, Losses: {losses}, Ties: {ties}')"
   ]
  },
  {
   "cell_type": "markdown",
   "id": "36702045",
   "metadata": {},
   "source": [
    "### 응답결과 고도화 1 - 요약 조건들 명시 후 평가\n",
    "- role과 수행 목표 정의\n",
    "- 요약 결과에 대한 충족 조건\n",
    "    - 톤엔 매너와 예시\n",
    "    - 요약 결과에 갯수"
   ]
  },
  {
   "cell_type": "code",
   "execution_count": 55,
   "id": "d6b27d4d",
   "metadata": {},
   "outputs": [
    {
     "name": "stderr",
     "output_type": "stream",
     "text": [
      "100%|██████████| 10/10 [00:36<00:00,  3.63s/it]"
     ]
    },
    {
     "name": "stdout",
     "output_type": "stream",
     "text": [
      "Wins: 6, Losses: 4, Ties: 0\n"
     ]
    },
    {
     "name": "stderr",
     "output_type": "stream",
     "text": [
      "\n"
     ]
    }
   ],
   "source": [
    "prompt = f\"\"\"당신은 요약 전문가입니다. 사용자 숙소 리뷰들이 주어졌을 때 요약하는 것이 당신의 목표입니다.\n",
    "\n",
    "요약 결과는 다음 조건들을 충족해야 합니다:\n",
    "1. 모든 문장은 항상 존댓말로 끝나야 합니다.\n",
    "2. 숙소에 대해 소개하는 톤앤매너로 작성해주세요.\n",
    "  2-1. 좋은 예시\n",
    "    a) 전반적으로 좋은 숙소였고 방음도 괜찮았다는 평입니다.\n",
    "    b) 재방문 예정이라는 평들이 존재합니다.\n",
    "  2-2. 나쁜 예시\n",
    "    a) 좋은 숙소였고 방음도 괜찮았습니다.\n",
    "    b) 재방문 예정입니다.\n",
    "3. 요약 결과는 최소 2문장, 최대 5문장 사이로 작성해주세요.\n",
    "    \n",
    "아래 숙소 리뷰들에 대해 요약해주세요:\"\"\"\n",
    "\n",
    "eval_count = 10\n",
    "summaries = [summarize(reviews, prompt, temperature=1.0) for _ in range(eval_count)]\n",
    "wins, losses, ties = pairwise_eval_batch(reviews, summaries, [summary_4o_20250530 for _ in range(len(summaries))])\n",
    "print(f'Wins: {wins}, Losses: {losses}, Ties: {ties}')"
   ]
  },
  {
   "cell_type": "markdown",
   "id": "ff269981",
   "metadata": {},
   "source": [
    "### 응답결과 고도화 2 - 입력 데이터의 품질 증가\n",
    "- 리뷰 길이가 짧은 것 필터링함, 고품질 리뷰만 남김"
   ]
  },
  {
   "cell_type": "code",
   "execution_count": null,
   "id": "bbdfff36",
   "metadata": {},
   "outputs": [],
   "source": [
    "import datetime\n",
    "from dateutil import parser\n",
    "\n",
    "def preprocess_reviews(path='./res/3.kyongpo_the_hongc.json'):\n",
    "    with open(path, 'r', encoding='utf-8') as f:\n",
    "        review_list = json.load(f)\n",
    "\n",
    "    reviews_good, reviews_bad = [], []\n",
    "\n",
    "    current_date = datetime.datetime.now()\n",
    "    date_boundary = current_date - datetime.timedelta(days=6*30)\n",
    "\n",
    "    filtered_cnt = 0\n",
    "    for r in review_list:\n",
    "        review_date_str = r['date']\n",
    "        try:\n",
    "            review_date = parser.parse(review_date_str)\n",
    "        except (ValueError, TypeError):\n",
    "            review_date = current_date\n",
    "\n",
    "        if review_date < date_boundary:\n",
    "            continue\n",
    "\n",
    "        # 고품질 리뷰만 남김\n",
    "        if len(r['review']) < 30:\n",
    "            filtered_cnt += 1\n",
    "            # print(r['review'])\n",
    "            continue\n",
    "\n",
    "        if r['stars'] == 5:\n",
    "            reviews_good.append('[REVIEW_START]' + r['review'] + '[REVIEW_END]')\n",
    "        else:\n",
    "            reviews_bad.append('[REVIEW_START]' + r['review'] + '[REVIEW_END]')\n",
    "\n",
    "    # 최대 길이가 50까지 되도로 자름 \n",
    "    reviews_good = reviews_good[:min(len(reviews_good), 50)]\n",
    "    reviews_bad = reviews_bad[:min(len(reviews_bad), 50)]\n",
    "\n",
    "    reviews_good_text = '\\n'.join(reviews_good)\n",
    "    reviews_bad_text = '\\n'.join(reviews_bad)\n",
    "\n",
    "    return reviews_good_text, reviews_bad_text\n",
    "\n",
    "reviews, _ = preprocess_reviews()"
   ]
  },
  {
   "cell_type": "code",
   "execution_count": 58,
   "id": "921da28d",
   "metadata": {},
   "outputs": [
    {
     "name": "stderr",
     "output_type": "stream",
     "text": [
      "100%|██████████| 10/10 [00:39<00:00,  3.99s/it]"
     ]
    },
    {
     "name": "stdout",
     "output_type": "stream",
     "text": [
      "Wins: 8, Losses: 2, Ties: 0\n"
     ]
    },
    {
     "name": "stderr",
     "output_type": "stream",
     "text": [
      "\n"
     ]
    }
   ],
   "source": [
    "# 평가 테스트\n",
    "eval_count = 10\n",
    "summaries = [summarize(reviews, prompt, temperature=1.0, model='gpt-3.5-turbo-0125') for _ in range(eval_count)]\n",
    "wins, losses, ties = pairwise_eval_batch(reviews, summaries, [summary_4o_20250530 for _ in range(len(summaries))])\n",
    "print(f'Wins: {wins}, Losses: {losses}, Ties: {ties}')"
   ]
  },
  {
   "cell_type": "markdown",
   "id": "5b6aa1e8",
   "metadata": {},
   "source": [
    "### 응답결과 고도화 3 - One-Shot Prompting"
   ]
  },
  {
   "cell_type": "code",
   "execution_count": 60,
   "id": "d979ffd6",
   "metadata": {},
   "outputs": [
    {
     "name": "stderr",
     "output_type": "stream",
     "text": [
      "100%|██████████| 10/10 [01:05<00:00,  6.53s/it]"
     ]
    },
    {
     "name": "stdout",
     "output_type": "stream",
     "text": [
      "Wins: 9, Losses: 1, Ties: 0\n"
     ]
    },
    {
     "name": "stderr",
     "output_type": "stream",
     "text": [
      "\n"
     ]
    }
   ],
   "source": [
    "reviews_1shot, _ = preprocess_reviews(path='./res/3.kyongpo_the_hongc.json')\n",
    "summary_1shot = summarize(reviews_1shot, prompt, temperature=0.0, model='gpt-3.5-turbo-0125')\n",
    "prompt_1shot = f\"\"\"당신은 요약 전문가입니다. 사용자 숙소 리뷰들이 주어졌을 때 요약하는 것이 당신의 목표입니다.\n",
    "\n",
    "요약 결과는 다음 조건들을 충족해야 합니다:\n",
    "1. 모든 문장은 항상 존댓말로 끝나야 합니다.\n",
    "2. 숙소에 대해 소개하는 톤앤매너로 작성해주세요.\n",
    "  2-1. 좋은 예시\n",
    "    a) 전반적으로 좋은 숙소였고 방음도 괜찮았다는 평입니다.\n",
    "    b) 재방문 예정이라는 평들이 존재합니다.\n",
    "  2-2. 나쁜 예시\n",
    "    a) 좋은 숙소였고 방음도 괜찮았습니다.\n",
    "    b) 재방문 예정입니다.\n",
    "3. 요약 결과는 최소 2문장, 최대 5문장 사이로 작성해주세요.\n",
    "\n",
    "다음은 리뷰들과 요약 예시입니다.\n",
    "예시 리뷰들:\n",
    "{reviews_1shot}\n",
    "예시 요약 결과:\n",
    "{summary_1shot}\n",
    "    \n",
    "아래 숙소 리뷰들에 대해 요약해주세요:\"\"\"\n",
    "\n",
    "summaries = [summarize(reviews, prompt, temperature=1.0, model='gpt-3.5-turbo-0125') for _ in range(eval_count)]\n",
    "wins, losses, ties = pairwise_eval_batch(reviews, summaries, [summary_4o_20250530 for _ in range(len(summaries))])\n",
    "print(f'Wins: {wins}, Losses: {losses}, Ties: {ties}')"
   ]
  },
  {
   "cell_type": "code",
   "execution_count": 61,
   "id": "78e0fdf0",
   "metadata": {},
   "outputs": [
    {
     "data": {
      "text/plain": [
       "['강릉 여행길에 들러서 예약을 잘한 호텔입니다. 주인의 품격을 느낄 수 있고 조용하고 편안한 분위기가 좋습니다. 고급스러운 로비와 깔끔한 객실로 만족스러운 1박을 보냈습니다. 침구가 훌륭하여 편안한 휴식을 취할 수 있었고, 다음 여행 시 다시 묵을 예정입니다. 객실이 깨끗하고 아늑하며, 침구류의 냄새가 더 없어서 만족하셨던 것 같습니다. 또한 직원분들이 친절하게 안내해주어 편안한 시간을 보낼 수 있었습니다.',\n",
       " '강릉 여행길에 들르게 되어 아주 예약을 잘했습니다. 호텔에서는 주인의 품격이 느껴지며 조용하고 좋은 환경이었습니다. 로비도 고급스럽고 객실도 깔끔하여 만족스러운 1박을 했습니다. 침구가 편안해서 잘 쉴 수 있었고, 다음에 여행을 가도 다시 묵고 싶은 곳이었습니다.전체적으로 친절한 안내와 청결함이 편안한 느낌을 주었고, 부모님도 만족하셨다고 합니다.더불어 직원분들의 친절한 응대와 깨끗하고 아늑한 객실이 마음에 들어서 자주 찾게 되는 곳입니다.식음에 대한 안내가 미흡해 아쉬운 점이 있지만, 시설은 깔끔하고 주변 환경이 좋아 다시 방문하고 싶은 곳이었습니다.',\n",
       " '강릉 여행길에 들렀는데 아주 예약을 잘한 것 같아요. 호텔이 주인의 품격을 느낄 수 있어요. 조용하고 좋습니다. 로비도 고급스럽고 객실도 깔끔해서 너무 만족스러운 1박이었어요. 침구가 너무 좋아서 편안히 잘 때도 했구요. 다음에 여행을 가면 여기에 또 묵을 거예요. 친절한 안내와 정리정돈이 잘 되어 있어서 편안하게 잘수 있었어요. 부모님께 예약해드렸는데 너무 만족하셨어요! 깨끗하고 아늑한곳이라 자주 방문한답니다. 객실은 깨끗하고 편안하고 전체적으로 좋았어요. 부모님들이 편안히 지내셨다고 하시네요. 하루를 편안히 보낼 수 있었어요. 조식 샌드위치도 진짜 맛있어요!',\n",
       " '강릉 여행길에 들러서 아주 예약을 잘 했었어요. 호텔이 주인의 품격이 느껴지며 조용하고 좋았습니다. 로비도 고급스럽고 객실도 깔끔해서 만족스러운 1박을 했습니다. 침구가 너무 좋아서 편안하게 잘 수 있었고, 친절한 안내와 정리 정돈으로 편안한 숙박을 즐길 수 있었어요. 다음에 강릉에 여행을 한다면 다시 이 숙소에 묵을 계획입니다. 부모님께서 예약해드렸는데 너무 만족하셨고, 깨끗하고 아늑해 좋아하셨다고 합니다. 프론트 분들도 친절하시고 방도 깨끗해서 편안하게 보낼 수 있었어요. 외부 음식 관련 안내에 대한 사전 안내가 필요할 것 같지만, 전반적으로 주변 인프라가 좋고 시설도 깔끔하며 편리한 위치라는 평입니다.장점을 강조하자면 객실 깔끔하고 편안하며 직원분들의 친절한 봉사에 만족하셨던 것으로 보입니다.재방문 의사도 높은 것으로 보입니다.',\n",
       " '강릉 여행길에 들러서 아주 잘 예약한 숙소였습니다. 호텔은 주인의 품격이 느껴져 조용하고 좋았어요. 로비도 고급스럽고 객실도 깔끔해서 아주 만족스러운 1박이었습니다. 다음에도 이 숙소를 재방문할 의향이 있습니다. 부모님도 너무 만족하셔서 좋았고, 직원분들의 친절함과 깨끗한 객실에 대해 언급이 많았어요. 전체적으로 아늑하고 청결한 숙소였으며, 다음 여행 때도 이용할 예정입니다.',\n",
       " '강릉 여행길에 들렸는데 아주 예약을 잘한 숙소였어요. 호텔은 주인의 품격이 느껴지고 조용하고 좋은 분위기를 자랑했어요. 로비도 고급스럽고 객실도 깔끔해서 너무 만족스러운 1박을 했습니다. 침구가 훌륭해서 편안한 휴식을 취할 수 있었고, 다음에 여행을 가면 다시 묵고 싶을 정도로 좋았어요. 전체적으로 친절한 안내와 정돈이 잘 되어있어 편안하게 지낼 수 있었고, 부모님도 너무 만족하셨다고 하세요. 객실은 깨끗하고 아늑하며 침구류 냄새도 거의 없어서 좋았어요. 프론트 데스크 직원들도 친절하고 서비스를 좋게 평가해주셨어요. 이 숙소는 편안하게 보낼 수 있는 곳으로, 조식 샌드위치도 진짜 맛있으며 직원분들의 친절한 서비스에 감탄했어요. 주차는 주차타워를 이용해야하는 점이 단점이지만 출차가 편하고 전반적으로 매우 추천합니다. 직원분들의 친절함과 청결한 객실로 재방문 의사가 높은 숙소에요. 위치가 교동에 있어 이동이 편리하며, 따뜻하고 깨끗한 분위기가 좋았습니다. 다음에도 이용할 의향이 있는 숙소예요.',\n",
       " '강릉 여행길에 들를때 아주 예약을 잘한 호텔이었습니다. 호텔 주인의 품격이 느껴졌고 조용하고 좋은 숙소였습니다. 로비도 고급스럽고 객실도 깔끔하여 만족스러운 1박을 했습니다. 침구가 편안하여 잘 수 있었고 재방문 의사가 있습니다. 청결한 시설과 교동 위치로 편리한 오가기가 가능한 좋은 숙소였습니다. 모든 직원들이 친절하고 추천할 만한 곳입니다. 객실은 깨끗하고 편안하며 체크인 시간보다 일찍 도착했음에도 빠른 서비스로 감사했습니다. ',\n",
       " '강릉 여행길에 들러 예약을 잘한 호텔입니다. 주인의 품격이 느껴지며 조용하고 좋습니다. 로비도 고급스럽고 객실도 깔끔하여 만족스러운 1박을 했습니다. 침구가 훌륭해 편안하게 휴식을 취할 수 있었고, 다음 여행에도 다시 머물 의향이 있습니다. 친절한 안내와 정리정돈으로 편안하게 잘 수 있었으며, 부모님도 만족하여 굿하셨어요! 위치가 편리하고 시설도 깔끔하여 편하게 머물렀으며, 프론트 분들의 친절에도 만족했습니다.',\n",
       " '강릉 여행길에 들르면서 예약을 잘한 호텔이었습니다. 주인의 품격을 느낄 수 있었고 조용하고 좋은 분위기였습니다. 로비와 객실이 모두 고급스러웠고 침구가 훌륭해서 편안한 하룻밤을 보낼 수 있었습니다. 친절한 안내와 정리정돈으로 편안한 여행을 즐길 수 있었어요. 다음에도 이 숙소를 다시 이용하고 싶은 만족스러운 숙박이었어요. 함께 간 부모님도 만족하셔서 좋았고, 깨끗하고 아늑해서 자주 방문하고 싶은 숙소입니다. 또한 직원분들의 친절한 안내와 주변 인프라의 편리함도 좋았습니다. 마지막으로 따뜻하고 깨끗한 분위기로 편안한 하루를 보낼 수 있었고, 난방도 잘 되어 있어서 만족스러웠습니다.',\n",
       " '강릉 여행길에 들른 숙소는 아주 예약을 잘한 것 같아요. 호텔은 주인의 품격이 느껴지며 조용하고 좋네요. 로비도 고급스럽고 객실은 깔끔하고 침구가 편안해서 만족스런 1박을 했습니다. 다음에 여행가면 또 여기에 묵을 거에요. 객실이 깨끗하고 편안하며 주변 인프라가 좋은 택지지구에 위치한 숙소예요. 직원들도 친절하고 방문자를 위해 세심하게 케어해주시는 것 같아요.']"
      ]
     },
     "execution_count": 61,
     "metadata": {},
     "output_type": "execute_result"
    }
   ],
   "source": [
    "summaries"
   ]
  },
  {
   "cell_type": "markdown",
   "id": "190f7ef8",
   "metadata": {},
   "source": [
    "### 응답결과 고도화 3 - one-Shot Prompting"
   ]
  },
  {
   "cell_type": "code",
   "execution_count": 62,
   "id": "b806e8c8",
   "metadata": {},
   "outputs": [
    {
     "name": "stderr",
     "output_type": "stream",
     "text": [
      "100%|██████████| 10/10 [00:43<00:00,  4.40s/it]"
     ]
    },
    {
     "name": "stdout",
     "output_type": "stream",
     "text": [
      "Wins: 7, Losses: 3, Ties: 0\n"
     ]
    },
    {
     "name": "stderr",
     "output_type": "stream",
     "text": [
      "\n"
     ]
    }
   ],
   "source": [
    "prompt_1shot = f\"\"\"당신은 요약 전문가입니다. 사용자 숙소 리뷰들이 주어졌을 때 요약하는 것이 당신의 목표입니다. 다음은 리뷰들과 요약 예시입니다.\n",
    "예시 리뷰들:\n",
    "{reviews_1shot}\n",
    "예시 요약 결과:\n",
    "{summary_1shot}\n",
    "    \n",
    "아래 숙소 리뷰들에 대해 요약해주세요:\"\"\"\n",
    "\n",
    "summaries = [summarize(reviews, prompt_1shot, temperature=1.0, model='gpt-3.5-turbo-0125') for _ in range(eval_count)]\n",
    "wins, losses, ties = pairwise_eval_batch(reviews, summaries, [summary_4o_20250530 for _ in range(len(summaries))])\n",
    "print(f'Wins: {wins}, Losses: {losses}, Ties: {ties}')"
   ]
  },
  {
   "cell_type": "markdown",
   "id": "bc7c480e",
   "metadata": {},
   "source": [
    "### prompt_1shot을 피클파일로 저장하기"
   ]
  },
  {
   "cell_type": "code",
   "execution_count": null,
   "id": "12fbf933",
   "metadata": {
    "vscode": {
     "languageId": "ini"
    }
   },
   "outputs": [],
   "source": [
    "# prompt_1shot을 피클파일로 저장하기\n",
    "file_name = \"./res/prompt_1shotv1.pickle\"\n",
    "# 파일로 저장\n",
    "import pickle\n",
    "with open(file_name, 'wb') as f:\n",
    "    pickle.dump(prompt_1shot, f)"
   ]
  },
  {
   "cell_type": "code",
   "execution_count": 64,
   "id": "371f96a3",
   "metadata": {},
   "outputs": [
    {
     "name": "stdout",
     "output_type": "stream",
     "text": [
      "['강릉 여행길에 들렀을 때 아주 예약을 잘한 호텔이었습니다. 주인의 품격이 느껴지며 조용하고 좋은 숙소였습니다. 로비도 고급스럽고 객실도 깔끔하여 너무 만족스러운 1박을 했습니다. 침구가 훌륭해서 편안하게 잠을 잘 수 있었고, 다음에 여행을 가면 다시 묵을 의향이 있습니다. 친절한 안내와 정리정돈이 잘 되어 있어 편안하게 머물렀습니다. 부모님도 만족하셨고, 깨끗하고 아늑한 숙소에서 편안한 시간을 보냈습니다. 객실은 깨끗하고 편안하며, 직원분들도 친절하셨습니다. 전체적으로 좋은 경험이었고, 다음에도 이용할 의향이 있습니다. 위치가 교동에 있어 오가기 편하며, 직원들도 친절하고 깨끗한 숙소였습니다. 주차타워 이용이 불편한 점이 있지만 전반적으로 깔끔하고 만족스러운 경험이었습니다.BindingUtil요원들도 친절하고 좋았으며, 객실도 깨끗하고 특히 조식을 칭찬하는 리뷰가 많았습니다. 숙소가 따듯하고 깨끗하여 만족스러웠고, 다음에도 이용할 예정이라고 칭찬하는 리뷰가 있었습니다.', '강릉 여행길에 있는 호텔은 주인의 품격이 느껴지며 조용하고 좋은 숙소입니다. 로비와 객실 모두 고급스럽고 깔끔하여 만족스러운 1박을 할 수 있었으며, 다음에도 이용할 의향이 있습니다. 친절한 안내와 정리정돈이 잘 되어 있어 편안하게 머물렀으며, 부모님도 너무 만족하셨습니다. 전체적으로 깨끗하고 편안한 숙소이며, 직원분들도 친절하여 좋은 경험을 한 것 같습니다.', '강릉 여행길에 들렀을 때 아주 예약을 잘한 호텔이었습니다. 주인의 품격이 느껴지며 조용하고 좋은 숙소였습니다. 로비도 고급스럽고 객실도 깔끔하여 너무 만족스러운 1박을 했습니다. 침구가 훌륭해서 편안하게 잠을 잘 수 있었고, 다음에 여행을 가면 다시 묵을 의향이 있습니다. 친절한 안내와 정리정돈이 잘 되어 있어 편안하게 머물렀습니다. 부모님도 만족하셨고, 깨끗하고 아늑한 숙소에서 편안한 시간을 보냈습니다. 객실은 깨끗하고 편안하며, 직원분들도 친절하셨습니다. 전체적으로 좋은 경험이었고, 다음에도 이용할 의향이 있습니다. (요약 길이: 408 words)', '강릉 여행길에 들렀을 때 아주 예약을 잘한 호텔이었습니다. 주인의 품격이 느껴지며 조용하고 좋은 숙소였습니다. 로비도 고급스럽고 객실도 깔끔하여 너무 만족스러운 1박을 했습니다. 침구가 훌륭해서 편안하게 잠을 잘 수 있었고, 다음에 여행을 가면 다시 묵을 의향이 있습니다. 친절한 안내와 정리정돈이 잘 되어 있어 편안하게 머물렀습니다. 부모님도 만족하셨고, 깨끗하고 아늑한 숙소에서 편안한 시간을 보냈습니다. 객실은 깨끗하고 편안하며, 직원분들도 친절하셨습니다. 전체적으로 좋은 경험이었고, 다음에도 이용할 의향이 있습니다.', '강릉 여행길에 들렀을 때 아주 예약을 잘한 호텔이었습니다. 주인의 품격이 느껴지며 조용하고 좋은 숙소였습니다. 로비도 고급스럽고 객실도 깔끔하여 너무 만족스러운 1박을 했습니다. 침구가 훌륭해서 편안하게 잠을 잘 수 있었고, 다음에 여행을 가면 다시 묵을 의향이 있습니다. 친절한 안내와 정리정돈이 잘 되어 있어 편안하게 머물렀습니다. 부모님도 만족하셨고, 깨끗하고 아늑한 숙소에서 편안한 시간을 보냈습니다. 객실은 깨끗하고 편안하며, 직원분들도 친절하셨습니다. 전체적으로 좋은 경험이었고, 다음에도 이용할 의향이 있습니다. 위치가 좋고 깨끗하며 편안한 숙소입니다.', '강릉 여행길에 들러 아주 예약을 잘한 호텔이었습니다. 주인의 품격을 느낄 수 있으며 조용하고 좋은 숙소입니다. 로비도 고급스럽고 객실도 깔끔하여 만족스러운 1박을 했습니다. 침구가 훌륭하여 편안하게 잠을 잘 수 있었고, 다음에 여행을 가면 다시 묵을 의향이 있습니다. 친절한 안내와 청결한 정돈으로 편안한 숙박을 즐길 수 있었습니다. 부모님도 만족하셨고, 깨끗하고 아늑한 숙소에서 편안한 시간을 보냈습니다. 직원분들도 친절하시며 시설이 깨끗하고 편안합니다. 외부 음식 관련 안내가 필요한 점을 제외하면 전반적으로 좋은 경험이었고, 재방문 의사가 있습니다.', '강릉 여행길에 머무르면서 주인의 품격이 느껴지고 조용하고 좋은 숙소였습니다. 로비와 객실이 고급스럽고 깔끔하여 만족스러운 1박을 했으며, 침구가 훌륭해서 편안한 시간을 보냈습니다. 친절한 안내와 정리정돈이 잘 되어 있어 편안하게 머물렀고, 부모님도 만족하셨습니다. 숙소는 깨끗하고 아늑하여 다시 이용할 의사가 있습니다. 직원들은 친절하고 시설도 깔끔하며, 외부 음식 관련 안내가 필요한 것이 유일한 아쉬움입니다. 샌드위치 맛이 좋고 친절한 직원들에게 감사했다고 하며, 깨끗하고 편한 숙소에서 편안하게 보낼 수 있었습니다. 위치가 편리하고 주차가 조금 불편하다는 단점을 제외하면 전체적으로 만족스러운 경험이었습니다.', '강릉 여행길에 들렀을 때 아주 예약을 잘한 호텔이었습니다. 주인의 품격이 느껴지며 조용하고 좋은 숙소였습니다. 로비도 고급스럽고 객실도 깔끔하여 너무 만족스러운 1박을 했습니다. 침구가 훌륭해서 편안하게 잠을 잘 수 있었고, 다음에 여행을 가면 다시 묵을 의향이 있습니다. 친절한 안내와 정리정돈이 잘 되어 있어 편안하게 머물렀습니다. 부모님도 만족하셨고, 깨끗하고 아늑한 숙소에서 편안한 시간을 보냈습니다. 객실은 깨끗하고 편안하며, 직원분들도 친절하셨습니다. 전체적으로 좋은 경험이었고, 다음에도 이용할 의향이 있습니다.', '강릉 여행 중 예약한 호텔은 주인의 품격과 조용한 분위기로 만족스러웠습니다. 로비와 객실이 고급스럽고 깔끔하여 1박을 즐거워했고, 침구도 편안해서 잘 수 있었습니다. 숙소는 친절한 안내와 정돈이 잘되어 있어 편안한 시간을 보냈습니다. 부모님도 만족하셨고, 깨끗하고 아늑한 분위기가 좋았으며 직원들의 친절함에 감사하셨습니다.추천합니다.', '강릉 여행길에 들렀을 때 예약을 잘했고, 호텔은 주인의 품격이 느껴졌으며 조용하고 좋은 숙소였습니다. 로비와 객실이 고급스럽고 깔끔하여 만족스러운 1박을 했고, 침구도 훌륭해서 편안하게 잠을 잘 수 있었습니다. 친절한 안내와 정리정돈이 잘 되어 있어 편안하게 머물렀고, 부모님도 만족하셨습니다. 숙소는 깨끗하고 아늑하며, 직원들도 친절하고 좋았습니다. 종합적으로 좋은 경험이었고, 재방문의사가 있습니다.']\n"
     ]
    }
   ],
   "source": [
    "print(summaries)"
   ]
  },
  {
   "cell_type": "code",
   "execution_count": null,
   "id": "0d28649e",
   "metadata": {},
   "outputs": [],
   "source": []
  }
 ],
 "metadata": {
  "kernelspec": {
   "display_name": "llm_env",
   "language": "python",
   "name": "python3"
  },
  "language_info": {
   "codemirror_mode": {
    "name": "ipython",
    "version": 3
   },
   "file_extension": ".py",
   "mimetype": "text/x-python",
   "name": "python",
   "nbconvert_exporter": "python",
   "pygments_lexer": "ipython3",
   "version": "3.12.9"
  }
 },
 "nbformat": 4,
 "nbformat_minor": 5
}
